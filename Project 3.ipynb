{
 "cells": [
  {
   "cell_type": "markdown",
   "metadata": {},
   "source": [
    "## Task 1\n",
    "\n",
    "#### A) Import all the required modules.Store the data into pandas dataframe and call it df_marketing."
   ]
  },
  {
   "cell_type": "code",
   "execution_count": 1,
   "metadata": {},
   "outputs": [
    {
     "name": "stderr",
     "output_type": "stream",
     "text": [
      "C:\\Users\\ujjwa\\Anaconda3\\lib\\site-packages\\statsmodels\\compat\\pandas.py:56: FutureWarning: The pandas.core.datetools module is deprecated and will be removed in a future version. Please use the pandas.tseries module instead.\n",
      "  from pandas.core import datetools\n"
     ]
    }
   ],
   "source": [
    "import numpy as np\n",
    "import pandas as pd\n",
    "import seaborn as sns\n",
    "from matplotlib import pyplot as plt\n",
    "from scipy import stats\n",
    "from statsmodels.tsa.seasonal import seasonal_decompose\n",
    "import statsmodels.api as sm\n",
    "from sklearn import datasets, linear_model\n",
    "from sklearn import metrics\n",
    "from sklearn.linear_model import SGDRegressor,LinearRegression"
   ]
  },
  {
   "cell_type": "code",
   "execution_count": 2,
   "metadata": {},
   "outputs": [
    {
     "data": {
      "text/html": [
       "<div>\n",
       "<style scoped>\n",
       "    .dataframe tbody tr th:only-of-type {\n",
       "        vertical-align: middle;\n",
       "    }\n",
       "\n",
       "    .dataframe tbody tr th {\n",
       "        vertical-align: top;\n",
       "    }\n",
       "\n",
       "    .dataframe thead th {\n",
       "        text-align: right;\n",
       "    }\n",
       "</style>\n",
       "<table border=\"1\" class=\"dataframe\">\n",
       "  <thead>\n",
       "    <tr style=\"text-align: right;\">\n",
       "      <th></th>\n",
       "      <th>Sno</th>\n",
       "      <th>TV</th>\n",
       "      <th>radio</th>\n",
       "      <th>newspaper</th>\n",
       "      <th>sales</th>\n",
       "    </tr>\n",
       "  </thead>\n",
       "  <tbody>\n",
       "    <tr>\n",
       "      <th>0</th>\n",
       "      <td>1</td>\n",
       "      <td>219.0</td>\n",
       "      <td>NaN</td>\n",
       "      <td>34.5</td>\n",
       "      <td>48.9</td>\n",
       "    </tr>\n",
       "    <tr>\n",
       "      <th>1</th>\n",
       "      <td>2</td>\n",
       "      <td>230.1</td>\n",
       "      <td>37.8</td>\n",
       "      <td>69.2</td>\n",
       "      <td>22.1</td>\n",
       "    </tr>\n",
       "    <tr>\n",
       "      <th>2</th>\n",
       "      <td>3</td>\n",
       "      <td>44.5</td>\n",
       "      <td>39.3</td>\n",
       "      <td>45.1</td>\n",
       "      <td>10.4</td>\n",
       "    </tr>\n",
       "    <tr>\n",
       "      <th>3</th>\n",
       "      <td>4</td>\n",
       "      <td>17.2</td>\n",
       "      <td>45.9</td>\n",
       "      <td>69.3</td>\n",
       "      <td>9.3</td>\n",
       "    </tr>\n",
       "    <tr>\n",
       "      <th>4</th>\n",
       "      <td>5</td>\n",
       "      <td>151.5</td>\n",
       "      <td>41.3</td>\n",
       "      <td>58.5</td>\n",
       "      <td>18.5</td>\n",
       "    </tr>\n",
       "  </tbody>\n",
       "</table>\n",
       "</div>"
      ],
      "text/plain": [
       "   Sno     TV  radio  newspaper  sales\n",
       "0    1  219.0    NaN       34.5   48.9\n",
       "1    2  230.1   37.8       69.2   22.1\n",
       "2    3   44.5   39.3       45.1   10.4\n",
       "3    4   17.2   45.9       69.3    9.3\n",
       "4    5  151.5   41.3       58.5   18.5"
      ]
     },
     "execution_count": 2,
     "metadata": {},
     "output_type": "execute_result"
    }
   ],
   "source": [
    "pd.options.display.max_rows = 205\n",
    "# reading the csv file\n",
    "df_marketing = pd.read_csv(\"SalesBasedOnAdvertising.csv\")\n",
    "df_marketing.head()"
   ]
  },
  {
   "cell_type": "markdown",
   "metadata": {},
   "source": [
    "## -----------------------------------------------------------------------------------------------------------------------------##"
   ]
  },
  {
   "cell_type": "markdown",
   "metadata": {},
   "source": [
    "#### b) Analyze the shape of the Data using df_makreby checking the no. of rows and columns available"
   ]
  },
  {
   "cell_type": "code",
   "execution_count": 3,
   "metadata": {},
   "outputs": [
    {
     "name": "stdout",
     "output_type": "stream",
     "text": [
      "The numbers of the entries are: 204 and total numbers of columns are: 5\n"
     ]
    }
   ],
   "source": [
    "# No of Rows\n",
    "total_rows=df_marketing.shape[0]\n",
    "# No of Columns\n",
    "total_columns=df_marketing.shape[1]\n",
    "print(\"The numbers of the entries are: {} and total numbers of columns are: {}\".format(total_rows,total_columns))"
   ]
  },
  {
   "cell_type": "markdown",
   "metadata": {},
   "source": [
    "## -----------------------------------------------------------------------------------------------------------------------------##"
   ]
  },
  {
   "cell_type": "markdown",
   "metadata": {},
   "source": [
    "#### c) Check the basic statistics of the given parameters and also look into the type of the data. Describe the Dataset in your words including the columns, their type, ranges and other stats."
   ]
  },
  {
   "cell_type": "code",
   "execution_count": 4,
   "metadata": {},
   "outputs": [
    {
     "data": {
      "text/plain": [
       "Sno            int64\n",
       "TV           float64\n",
       "radio        float64\n",
       "newspaper    float64\n",
       "sales        float64\n",
       "dtype: object"
      ]
     },
     "execution_count": 4,
     "metadata": {},
     "output_type": "execute_result"
    }
   ],
   "source": [
    "df_marketing.dtypes"
   ]
  },
  {
   "cell_type": "markdown",
   "metadata": {},
   "source": [
    "### Ans - Observations\n",
    "\n",
    "We can see that the data in the columns is of float type.\n"
   ]
  },
  {
   "cell_type": "code",
   "execution_count": 5,
   "metadata": {},
   "outputs": [
    {
     "data": {
      "text/html": [
       "<div>\n",
       "<style scoped>\n",
       "    .dataframe tbody tr th:only-of-type {\n",
       "        vertical-align: middle;\n",
       "    }\n",
       "\n",
       "    .dataframe tbody tr th {\n",
       "        vertical-align: top;\n",
       "    }\n",
       "\n",
       "    .dataframe thead th {\n",
       "        text-align: right;\n",
       "    }\n",
       "</style>\n",
       "<table border=\"1\" class=\"dataframe\">\n",
       "  <thead>\n",
       "    <tr style=\"text-align: right;\">\n",
       "      <th></th>\n",
       "      <th>Sno</th>\n",
       "      <th>TV</th>\n",
       "      <th>radio</th>\n",
       "      <th>newspaper</th>\n",
       "      <th>sales</th>\n",
       "    </tr>\n",
       "  </thead>\n",
       "  <tbody>\n",
       "    <tr>\n",
       "      <th>count</th>\n",
       "      <td>204.000000</td>\n",
       "      <td>204.000000</td>\n",
       "      <td>203.000000</td>\n",
       "      <td>204.000000</td>\n",
       "      <td>204.000000</td>\n",
       "    </tr>\n",
       "    <tr>\n",
       "      <th>mean</th>\n",
       "      <td>102.500000</td>\n",
       "      <td>146.602451</td>\n",
       "      <td>23.122167</td>\n",
       "      <td>30.712255</td>\n",
       "      <td>14.020588</td>\n",
       "    </tr>\n",
       "    <tr>\n",
       "      <th>std</th>\n",
       "      <td>59.033889</td>\n",
       "      <td>86.062496</td>\n",
       "      <td>14.810692</td>\n",
       "      <td>21.731852</td>\n",
       "      <td>5.905251</td>\n",
       "    </tr>\n",
       "    <tr>\n",
       "      <th>min</th>\n",
       "      <td>1.000000</td>\n",
       "      <td>0.000000</td>\n",
       "      <td>0.000000</td>\n",
       "      <td>0.300000</td>\n",
       "      <td>0.000000</td>\n",
       "    </tr>\n",
       "    <tr>\n",
       "      <th>25%</th>\n",
       "      <td>51.750000</td>\n",
       "      <td>72.700000</td>\n",
       "      <td>9.950000</td>\n",
       "      <td>12.875000</td>\n",
       "      <td>10.250000</td>\n",
       "    </tr>\n",
       "    <tr>\n",
       "      <th>50%</th>\n",
       "      <td>102.500000</td>\n",
       "      <td>149.750000</td>\n",
       "      <td>22.300000</td>\n",
       "      <td>26.050000</td>\n",
       "      <td>12.900000</td>\n",
       "    </tr>\n",
       "    <tr>\n",
       "      <th>75%</th>\n",
       "      <td>153.250000</td>\n",
       "      <td>218.625000</td>\n",
       "      <td>36.400000</td>\n",
       "      <td>45.100000</td>\n",
       "      <td>17.400000</td>\n",
       "    </tr>\n",
       "    <tr>\n",
       "      <th>max</th>\n",
       "      <td>204.000000</td>\n",
       "      <td>296.400000</td>\n",
       "      <td>49.600000</td>\n",
       "      <td>114.000000</td>\n",
       "      <td>48.900000</td>\n",
       "    </tr>\n",
       "  </tbody>\n",
       "</table>\n",
       "</div>"
      ],
      "text/plain": [
       "              Sno          TV       radio   newspaper       sales\n",
       "count  204.000000  204.000000  203.000000  204.000000  204.000000\n",
       "mean   102.500000  146.602451   23.122167   30.712255   14.020588\n",
       "std     59.033889   86.062496   14.810692   21.731852    5.905251\n",
       "min      1.000000    0.000000    0.000000    0.300000    0.000000\n",
       "25%     51.750000   72.700000    9.950000   12.875000   10.250000\n",
       "50%    102.500000  149.750000   22.300000   26.050000   12.900000\n",
       "75%    153.250000  218.625000   36.400000   45.100000   17.400000\n",
       "max    204.000000  296.400000   49.600000  114.000000   48.900000"
      ]
     },
     "execution_count": 5,
     "metadata": {},
     "output_type": "execute_result"
    }
   ],
   "source": [
    "df_marketing.describe()"
   ]
  },
  {
   "cell_type": "markdown",
   "metadata": {},
   "source": [
    "### Ans - Observations\n",
    "\n",
    "So looking the data that we got after performing simple statistics we can see that the **Average Sale of the mart is 14.02 lakh rupees**.The **Minimum amount spent for the advertisment through Television , Radio, Newspaper is 0, 0, 300 Rs respectively**. Investigating this minimum amount fact we can see that advertisment through the newpaper is always considered against advertisment through the TV and Radio.\n",
    "\n",
    "##### In short\n",
    "\n",
    "**Mean Sale** - 14.02 Lakh Rs\n",
    "\n",
    "**Range** 0 - 49 Lakh Rs\n",
    "\n",
    "**Std Deviation** - 5.9 (Data flucates to a great extent from mean)."
   ]
  },
  {
   "cell_type": "markdown",
   "metadata": {},
   "source": [
    "## -----------------------------------------------------------------------------------------------------------------------------##"
   ]
  },
  {
   "cell_type": "markdown",
   "metadata": {},
   "source": [
    "#### d) Next check if there is any Null/character type data in the given data.\n",
    "\n",
    "If any Sales data is Null or contain value 0, drop the complete row.\n",
    "\n",
    "\n",
    "\n",
    "For any other column, fill those cell with the average value for those columns."
   ]
  },
  {
   "cell_type": "code",
   "execution_count": 6,
   "metadata": {},
   "outputs": [],
   "source": [
    "# Dropping the row with the sales value 0.0\n",
    "df_marketing = df_marketing[df_marketing.sales != 0.0]"
   ]
  },
  {
   "cell_type": "code",
   "execution_count": 7,
   "metadata": {},
   "outputs": [
    {
     "name": "stdout",
     "output_type": "stream",
     "text": [
      "Is there exist any Nan value - True\n"
     ]
    }
   ],
   "source": [
    "# Checking is there exist any NaN value\n",
    "flag = df_marketing.isnull().values.any()\n",
    "print(\"Is there exist any Nan value - {}\".format(flag))"
   ]
  },
  {
   "cell_type": "code",
   "execution_count": 8,
   "metadata": {},
   "outputs": [
    {
     "data": {
      "text/html": [
       "<div>\n",
       "<style scoped>\n",
       "    .dataframe tbody tr th:only-of-type {\n",
       "        vertical-align: middle;\n",
       "    }\n",
       "\n",
       "    .dataframe tbody tr th {\n",
       "        vertical-align: top;\n",
       "    }\n",
       "\n",
       "    .dataframe thead th {\n",
       "        text-align: right;\n",
       "    }\n",
       "</style>\n",
       "<table border=\"1\" class=\"dataframe\">\n",
       "  <thead>\n",
       "    <tr style=\"text-align: right;\">\n",
       "      <th></th>\n",
       "      <th>Sno</th>\n",
       "      <th>TV</th>\n",
       "      <th>radio</th>\n",
       "      <th>newspaper</th>\n",
       "      <th>sales</th>\n",
       "    </tr>\n",
       "  </thead>\n",
       "  <tbody>\n",
       "    <tr>\n",
       "      <th>0</th>\n",
       "      <td>1</td>\n",
       "      <td>219.0</td>\n",
       "      <td>23.247761</td>\n",
       "      <td>34.5</td>\n",
       "      <td>48.9</td>\n",
       "    </tr>\n",
       "    <tr>\n",
       "      <th>1</th>\n",
       "      <td>2</td>\n",
       "      <td>230.1</td>\n",
       "      <td>37.800000</td>\n",
       "      <td>69.2</td>\n",
       "      <td>22.1</td>\n",
       "    </tr>\n",
       "    <tr>\n",
       "      <th>2</th>\n",
       "      <td>3</td>\n",
       "      <td>44.5</td>\n",
       "      <td>39.300000</td>\n",
       "      <td>45.1</td>\n",
       "      <td>10.4</td>\n",
       "    </tr>\n",
       "    <tr>\n",
       "      <th>3</th>\n",
       "      <td>4</td>\n",
       "      <td>17.2</td>\n",
       "      <td>45.900000</td>\n",
       "      <td>69.3</td>\n",
       "      <td>9.3</td>\n",
       "    </tr>\n",
       "    <tr>\n",
       "      <th>4</th>\n",
       "      <td>5</td>\n",
       "      <td>151.5</td>\n",
       "      <td>41.300000</td>\n",
       "      <td>58.5</td>\n",
       "      <td>18.5</td>\n",
       "    </tr>\n",
       "    <tr>\n",
       "      <th>5</th>\n",
       "      <td>6</td>\n",
       "      <td>180.8</td>\n",
       "      <td>10.800000</td>\n",
       "      <td>58.4</td>\n",
       "      <td>12.9</td>\n",
       "    </tr>\n",
       "    <tr>\n",
       "      <th>6</th>\n",
       "      <td>7</td>\n",
       "      <td>8.7</td>\n",
       "      <td>48.900000</td>\n",
       "      <td>75.0</td>\n",
       "      <td>7.2</td>\n",
       "    </tr>\n",
       "    <tr>\n",
       "      <th>7</th>\n",
       "      <td>8</td>\n",
       "      <td>57.5</td>\n",
       "      <td>32.800000</td>\n",
       "      <td>23.5</td>\n",
       "      <td>11.8</td>\n",
       "    </tr>\n",
       "    <tr>\n",
       "      <th>8</th>\n",
       "      <td>9</td>\n",
       "      <td>120.2</td>\n",
       "      <td>19.600000</td>\n",
       "      <td>11.6</td>\n",
       "      <td>13.2</td>\n",
       "    </tr>\n",
       "    <tr>\n",
       "      <th>9</th>\n",
       "      <td>10</td>\n",
       "      <td>8.6</td>\n",
       "      <td>2.100000</td>\n",
       "      <td>1.0</td>\n",
       "      <td>4.8</td>\n",
       "    </tr>\n",
       "    <tr>\n",
       "      <th>10</th>\n",
       "      <td>11</td>\n",
       "      <td>199.8</td>\n",
       "      <td>2.600000</td>\n",
       "      <td>21.2</td>\n",
       "      <td>10.6</td>\n",
       "    </tr>\n",
       "    <tr>\n",
       "      <th>11</th>\n",
       "      <td>12</td>\n",
       "      <td>66.1</td>\n",
       "      <td>5.800000</td>\n",
       "      <td>24.2</td>\n",
       "      <td>8.6</td>\n",
       "    </tr>\n",
       "    <tr>\n",
       "      <th>12</th>\n",
       "      <td>13</td>\n",
       "      <td>214.7</td>\n",
       "      <td>24.000000</td>\n",
       "      <td>4.0</td>\n",
       "      <td>17.4</td>\n",
       "    </tr>\n",
       "    <tr>\n",
       "      <th>13</th>\n",
       "      <td>14</td>\n",
       "      <td>23.8</td>\n",
       "      <td>35.100000</td>\n",
       "      <td>65.9</td>\n",
       "      <td>9.2</td>\n",
       "    </tr>\n",
       "    <tr>\n",
       "      <th>14</th>\n",
       "      <td>15</td>\n",
       "      <td>97.5</td>\n",
       "      <td>7.600000</td>\n",
       "      <td>7.2</td>\n",
       "      <td>9.7</td>\n",
       "    </tr>\n",
       "    <tr>\n",
       "      <th>15</th>\n",
       "      <td>16</td>\n",
       "      <td>204.1</td>\n",
       "      <td>32.900000</td>\n",
       "      <td>46.0</td>\n",
       "      <td>19.0</td>\n",
       "    </tr>\n",
       "    <tr>\n",
       "      <th>16</th>\n",
       "      <td>17</td>\n",
       "      <td>195.4</td>\n",
       "      <td>47.700000</td>\n",
       "      <td>52.9</td>\n",
       "      <td>22.4</td>\n",
       "    </tr>\n",
       "    <tr>\n",
       "      <th>17</th>\n",
       "      <td>18</td>\n",
       "      <td>67.8</td>\n",
       "      <td>36.600000</td>\n",
       "      <td>114.0</td>\n",
       "      <td>12.5</td>\n",
       "    </tr>\n",
       "    <tr>\n",
       "      <th>18</th>\n",
       "      <td>19</td>\n",
       "      <td>281.4</td>\n",
       "      <td>39.600000</td>\n",
       "      <td>55.8</td>\n",
       "      <td>24.4</td>\n",
       "    </tr>\n",
       "    <tr>\n",
       "      <th>19</th>\n",
       "      <td>20</td>\n",
       "      <td>69.2</td>\n",
       "      <td>20.500000</td>\n",
       "      <td>18.3</td>\n",
       "      <td>11.3</td>\n",
       "    </tr>\n",
       "    <tr>\n",
       "      <th>20</th>\n",
       "      <td>21</td>\n",
       "      <td>147.3</td>\n",
       "      <td>23.900000</td>\n",
       "      <td>19.1</td>\n",
       "      <td>14.6</td>\n",
       "    </tr>\n",
       "    <tr>\n",
       "      <th>21</th>\n",
       "      <td>22</td>\n",
       "      <td>218.4</td>\n",
       "      <td>27.700000</td>\n",
       "      <td>53.4</td>\n",
       "      <td>18.0</td>\n",
       "    </tr>\n",
       "    <tr>\n",
       "      <th>22</th>\n",
       "      <td>23</td>\n",
       "      <td>237.4</td>\n",
       "      <td>5.100000</td>\n",
       "      <td>23.5</td>\n",
       "      <td>12.5</td>\n",
       "    </tr>\n",
       "    <tr>\n",
       "      <th>23</th>\n",
       "      <td>24</td>\n",
       "      <td>13.2</td>\n",
       "      <td>15.900000</td>\n",
       "      <td>49.6</td>\n",
       "      <td>5.6</td>\n",
       "    </tr>\n",
       "    <tr>\n",
       "      <th>24</th>\n",
       "      <td>25</td>\n",
       "      <td>228.3</td>\n",
       "      <td>16.900000</td>\n",
       "      <td>26.2</td>\n",
       "      <td>15.5</td>\n",
       "    </tr>\n",
       "    <tr>\n",
       "      <th>25</th>\n",
       "      <td>26</td>\n",
       "      <td>62.3</td>\n",
       "      <td>12.600000</td>\n",
       "      <td>18.3</td>\n",
       "      <td>9.7</td>\n",
       "    </tr>\n",
       "    <tr>\n",
       "      <th>26</th>\n",
       "      <td>27</td>\n",
       "      <td>262.9</td>\n",
       "      <td>3.500000</td>\n",
       "      <td>19.5</td>\n",
       "      <td>12.0</td>\n",
       "    </tr>\n",
       "    <tr>\n",
       "      <th>27</th>\n",
       "      <td>28</td>\n",
       "      <td>142.9</td>\n",
       "      <td>29.300000</td>\n",
       "      <td>12.6</td>\n",
       "      <td>15.0</td>\n",
       "    </tr>\n",
       "    <tr>\n",
       "      <th>28</th>\n",
       "      <td>29</td>\n",
       "      <td>240.1</td>\n",
       "      <td>16.700000</td>\n",
       "      <td>22.9</td>\n",
       "      <td>15.9</td>\n",
       "    </tr>\n",
       "    <tr>\n",
       "      <th>29</th>\n",
       "      <td>30</td>\n",
       "      <td>248.8</td>\n",
       "      <td>27.100000</td>\n",
       "      <td>22.9</td>\n",
       "      <td>18.9</td>\n",
       "    </tr>\n",
       "    <tr>\n",
       "      <th>30</th>\n",
       "      <td>31</td>\n",
       "      <td>70.6</td>\n",
       "      <td>16.000000</td>\n",
       "      <td>40.8</td>\n",
       "      <td>10.5</td>\n",
       "    </tr>\n",
       "    <tr>\n",
       "      <th>31</th>\n",
       "      <td>32</td>\n",
       "      <td>292.9</td>\n",
       "      <td>28.300000</td>\n",
       "      <td>43.2</td>\n",
       "      <td>21.4</td>\n",
       "    </tr>\n",
       "    <tr>\n",
       "      <th>32</th>\n",
       "      <td>33</td>\n",
       "      <td>112.9</td>\n",
       "      <td>17.400000</td>\n",
       "      <td>38.6</td>\n",
       "      <td>11.9</td>\n",
       "    </tr>\n",
       "    <tr>\n",
       "      <th>33</th>\n",
       "      <td>34</td>\n",
       "      <td>97.2</td>\n",
       "      <td>1.500000</td>\n",
       "      <td>30.0</td>\n",
       "      <td>9.6</td>\n",
       "    </tr>\n",
       "    <tr>\n",
       "      <th>34</th>\n",
       "      <td>35</td>\n",
       "      <td>265.6</td>\n",
       "      <td>20.000000</td>\n",
       "      <td>0.3</td>\n",
       "      <td>17.4</td>\n",
       "    </tr>\n",
       "    <tr>\n",
       "      <th>35</th>\n",
       "      <td>36</td>\n",
       "      <td>95.7</td>\n",
       "      <td>1.400000</td>\n",
       "      <td>7.4</td>\n",
       "      <td>9.5</td>\n",
       "    </tr>\n",
       "    <tr>\n",
       "      <th>36</th>\n",
       "      <td>37</td>\n",
       "      <td>290.7</td>\n",
       "      <td>4.100000</td>\n",
       "      <td>8.5</td>\n",
       "      <td>12.8</td>\n",
       "    </tr>\n",
       "    <tr>\n",
       "      <th>37</th>\n",
       "      <td>38</td>\n",
       "      <td>266.9</td>\n",
       "      <td>43.800000</td>\n",
       "      <td>5.0</td>\n",
       "      <td>25.4</td>\n",
       "    </tr>\n",
       "    <tr>\n",
       "      <th>38</th>\n",
       "      <td>39</td>\n",
       "      <td>74.7</td>\n",
       "      <td>49.400000</td>\n",
       "      <td>45.7</td>\n",
       "      <td>14.7</td>\n",
       "    </tr>\n",
       "    <tr>\n",
       "      <th>39</th>\n",
       "      <td>40</td>\n",
       "      <td>43.1</td>\n",
       "      <td>26.700000</td>\n",
       "      <td>35.1</td>\n",
       "      <td>10.1</td>\n",
       "    </tr>\n",
       "    <tr>\n",
       "      <th>40</th>\n",
       "      <td>41</td>\n",
       "      <td>228.0</td>\n",
       "      <td>37.700000</td>\n",
       "      <td>32.0</td>\n",
       "      <td>21.5</td>\n",
       "    </tr>\n",
       "    <tr>\n",
       "      <th>41</th>\n",
       "      <td>42</td>\n",
       "      <td>202.5</td>\n",
       "      <td>22.300000</td>\n",
       "      <td>31.6</td>\n",
       "      <td>16.6</td>\n",
       "    </tr>\n",
       "    <tr>\n",
       "      <th>42</th>\n",
       "      <td>43</td>\n",
       "      <td>177.0</td>\n",
       "      <td>33.400000</td>\n",
       "      <td>38.7</td>\n",
       "      <td>17.1</td>\n",
       "    </tr>\n",
       "    <tr>\n",
       "      <th>43</th>\n",
       "      <td>44</td>\n",
       "      <td>293.6</td>\n",
       "      <td>27.700000</td>\n",
       "      <td>1.8</td>\n",
       "      <td>20.7</td>\n",
       "    </tr>\n",
       "    <tr>\n",
       "      <th>44</th>\n",
       "      <td>45</td>\n",
       "      <td>206.9</td>\n",
       "      <td>8.400000</td>\n",
       "      <td>26.4</td>\n",
       "      <td>12.9</td>\n",
       "    </tr>\n",
       "    <tr>\n",
       "      <th>45</th>\n",
       "      <td>46</td>\n",
       "      <td>25.1</td>\n",
       "      <td>25.700000</td>\n",
       "      <td>43.3</td>\n",
       "      <td>8.5</td>\n",
       "    </tr>\n",
       "    <tr>\n",
       "      <th>46</th>\n",
       "      <td>47</td>\n",
       "      <td>175.1</td>\n",
       "      <td>22.500000</td>\n",
       "      <td>31.5</td>\n",
       "      <td>14.9</td>\n",
       "    </tr>\n",
       "    <tr>\n",
       "      <th>47</th>\n",
       "      <td>48</td>\n",
       "      <td>89.7</td>\n",
       "      <td>9.900000</td>\n",
       "      <td>35.7</td>\n",
       "      <td>10.6</td>\n",
       "    </tr>\n",
       "    <tr>\n",
       "      <th>48</th>\n",
       "      <td>49</td>\n",
       "      <td>239.9</td>\n",
       "      <td>41.500000</td>\n",
       "      <td>18.5</td>\n",
       "      <td>23.2</td>\n",
       "    </tr>\n",
       "    <tr>\n",
       "      <th>49</th>\n",
       "      <td>50</td>\n",
       "      <td>227.2</td>\n",
       "      <td>15.800000</td>\n",
       "      <td>49.9</td>\n",
       "      <td>14.8</td>\n",
       "    </tr>\n",
       "    <tr>\n",
       "      <th>50</th>\n",
       "      <td>51</td>\n",
       "      <td>66.9</td>\n",
       "      <td>11.700000</td>\n",
       "      <td>36.8</td>\n",
       "      <td>9.7</td>\n",
       "    </tr>\n",
       "    <tr>\n",
       "      <th>51</th>\n",
       "      <td>52</td>\n",
       "      <td>199.8</td>\n",
       "      <td>3.100000</td>\n",
       "      <td>34.6</td>\n",
       "      <td>11.4</td>\n",
       "    </tr>\n",
       "    <tr>\n",
       "      <th>52</th>\n",
       "      <td>53</td>\n",
       "      <td>100.4</td>\n",
       "      <td>9.600000</td>\n",
       "      <td>3.6</td>\n",
       "      <td>10.7</td>\n",
       "    </tr>\n",
       "    <tr>\n",
       "      <th>53</th>\n",
       "      <td>54</td>\n",
       "      <td>216.4</td>\n",
       "      <td>41.700000</td>\n",
       "      <td>39.6</td>\n",
       "      <td>22.6</td>\n",
       "    </tr>\n",
       "    <tr>\n",
       "      <th>54</th>\n",
       "      <td>55</td>\n",
       "      <td>182.6</td>\n",
       "      <td>46.200000</td>\n",
       "      <td>58.7</td>\n",
       "      <td>21.2</td>\n",
       "    </tr>\n",
       "    <tr>\n",
       "      <th>55</th>\n",
       "      <td>56</td>\n",
       "      <td>262.7</td>\n",
       "      <td>28.800000</td>\n",
       "      <td>15.9</td>\n",
       "      <td>20.2</td>\n",
       "    </tr>\n",
       "    <tr>\n",
       "      <th>56</th>\n",
       "      <td>57</td>\n",
       "      <td>198.9</td>\n",
       "      <td>49.400000</td>\n",
       "      <td>60.0</td>\n",
       "      <td>23.7</td>\n",
       "    </tr>\n",
       "    <tr>\n",
       "      <th>57</th>\n",
       "      <td>58</td>\n",
       "      <td>7.3</td>\n",
       "      <td>28.100000</td>\n",
       "      <td>41.4</td>\n",
       "      <td>5.5</td>\n",
       "    </tr>\n",
       "    <tr>\n",
       "      <th>58</th>\n",
       "      <td>59</td>\n",
       "      <td>136.2</td>\n",
       "      <td>19.200000</td>\n",
       "      <td>16.6</td>\n",
       "      <td>13.2</td>\n",
       "    </tr>\n",
       "    <tr>\n",
       "      <th>59</th>\n",
       "      <td>60</td>\n",
       "      <td>210.8</td>\n",
       "      <td>49.600000</td>\n",
       "      <td>37.7</td>\n",
       "      <td>23.8</td>\n",
       "    </tr>\n",
       "    <tr>\n",
       "      <th>60</th>\n",
       "      <td>61</td>\n",
       "      <td>210.7</td>\n",
       "      <td>29.500000</td>\n",
       "      <td>9.3</td>\n",
       "      <td>18.4</td>\n",
       "    </tr>\n",
       "    <tr>\n",
       "      <th>61</th>\n",
       "      <td>62</td>\n",
       "      <td>53.5</td>\n",
       "      <td>2.000000</td>\n",
       "      <td>21.4</td>\n",
       "      <td>8.1</td>\n",
       "    </tr>\n",
       "    <tr>\n",
       "      <th>62</th>\n",
       "      <td>63</td>\n",
       "      <td>261.3</td>\n",
       "      <td>42.700000</td>\n",
       "      <td>54.7</td>\n",
       "      <td>24.2</td>\n",
       "    </tr>\n",
       "    <tr>\n",
       "      <th>63</th>\n",
       "      <td>64</td>\n",
       "      <td>239.3</td>\n",
       "      <td>15.500000</td>\n",
       "      <td>27.3</td>\n",
       "      <td>15.7</td>\n",
       "    </tr>\n",
       "    <tr>\n",
       "      <th>64</th>\n",
       "      <td>65</td>\n",
       "      <td>102.7</td>\n",
       "      <td>29.600000</td>\n",
       "      <td>8.4</td>\n",
       "      <td>14.0</td>\n",
       "    </tr>\n",
       "    <tr>\n",
       "      <th>65</th>\n",
       "      <td>66</td>\n",
       "      <td>131.1</td>\n",
       "      <td>42.800000</td>\n",
       "      <td>28.9</td>\n",
       "      <td>18.0</td>\n",
       "    </tr>\n",
       "    <tr>\n",
       "      <th>66</th>\n",
       "      <td>67</td>\n",
       "      <td>69.0</td>\n",
       "      <td>9.300000</td>\n",
       "      <td>0.9</td>\n",
       "      <td>9.3</td>\n",
       "    </tr>\n",
       "    <tr>\n",
       "      <th>67</th>\n",
       "      <td>68</td>\n",
       "      <td>31.5</td>\n",
       "      <td>24.600000</td>\n",
       "      <td>2.2</td>\n",
       "      <td>9.5</td>\n",
       "    </tr>\n",
       "    <tr>\n",
       "      <th>68</th>\n",
       "      <td>69</td>\n",
       "      <td>139.3</td>\n",
       "      <td>14.500000</td>\n",
       "      <td>10.2</td>\n",
       "      <td>13.4</td>\n",
       "    </tr>\n",
       "    <tr>\n",
       "      <th>69</th>\n",
       "      <td>70</td>\n",
       "      <td>237.4</td>\n",
       "      <td>27.500000</td>\n",
       "      <td>11.0</td>\n",
       "      <td>18.9</td>\n",
       "    </tr>\n",
       "    <tr>\n",
       "      <th>70</th>\n",
       "      <td>71</td>\n",
       "      <td>216.8</td>\n",
       "      <td>43.900000</td>\n",
       "      <td>27.2</td>\n",
       "      <td>22.3</td>\n",
       "    </tr>\n",
       "    <tr>\n",
       "      <th>71</th>\n",
       "      <td>72</td>\n",
       "      <td>199.1</td>\n",
       "      <td>30.600000</td>\n",
       "      <td>38.7</td>\n",
       "      <td>18.3</td>\n",
       "    </tr>\n",
       "    <tr>\n",
       "      <th>72</th>\n",
       "      <td>73</td>\n",
       "      <td>109.8</td>\n",
       "      <td>14.300000</td>\n",
       "      <td>31.7</td>\n",
       "      <td>12.4</td>\n",
       "    </tr>\n",
       "    <tr>\n",
       "      <th>73</th>\n",
       "      <td>74</td>\n",
       "      <td>26.8</td>\n",
       "      <td>33.000000</td>\n",
       "      <td>19.3</td>\n",
       "      <td>8.8</td>\n",
       "    </tr>\n",
       "    <tr>\n",
       "      <th>74</th>\n",
       "      <td>75</td>\n",
       "      <td>129.4</td>\n",
       "      <td>5.700000</td>\n",
       "      <td>31.3</td>\n",
       "      <td>11.0</td>\n",
       "    </tr>\n",
       "    <tr>\n",
       "      <th>75</th>\n",
       "      <td>76</td>\n",
       "      <td>213.4</td>\n",
       "      <td>24.600000</td>\n",
       "      <td>13.1</td>\n",
       "      <td>17.0</td>\n",
       "    </tr>\n",
       "    <tr>\n",
       "      <th>76</th>\n",
       "      <td>77</td>\n",
       "      <td>16.9</td>\n",
       "      <td>43.700000</td>\n",
       "      <td>89.4</td>\n",
       "      <td>8.7</td>\n",
       "    </tr>\n",
       "    <tr>\n",
       "      <th>77</th>\n",
       "      <td>78</td>\n",
       "      <td>27.5</td>\n",
       "      <td>1.600000</td>\n",
       "      <td>20.7</td>\n",
       "      <td>6.9</td>\n",
       "    </tr>\n",
       "    <tr>\n",
       "      <th>78</th>\n",
       "      <td>79</td>\n",
       "      <td>120.5</td>\n",
       "      <td>28.500000</td>\n",
       "      <td>14.2</td>\n",
       "      <td>14.2</td>\n",
       "    </tr>\n",
       "    <tr>\n",
       "      <th>79</th>\n",
       "      <td>80</td>\n",
       "      <td>5.4</td>\n",
       "      <td>29.900000</td>\n",
       "      <td>9.4</td>\n",
       "      <td>5.3</td>\n",
       "    </tr>\n",
       "    <tr>\n",
       "      <th>80</th>\n",
       "      <td>81</td>\n",
       "      <td>116.0</td>\n",
       "      <td>7.700000</td>\n",
       "      <td>23.1</td>\n",
       "      <td>11.0</td>\n",
       "    </tr>\n",
       "    <tr>\n",
       "      <th>81</th>\n",
       "      <td>82</td>\n",
       "      <td>76.4</td>\n",
       "      <td>26.700000</td>\n",
       "      <td>22.3</td>\n",
       "      <td>11.8</td>\n",
       "    </tr>\n",
       "    <tr>\n",
       "      <th>82</th>\n",
       "      <td>83</td>\n",
       "      <td>239.8</td>\n",
       "      <td>4.100000</td>\n",
       "      <td>36.9</td>\n",
       "      <td>12.3</td>\n",
       "    </tr>\n",
       "    <tr>\n",
       "      <th>83</th>\n",
       "      <td>84</td>\n",
       "      <td>75.3</td>\n",
       "      <td>20.300000</td>\n",
       "      <td>32.5</td>\n",
       "      <td>11.3</td>\n",
       "    </tr>\n",
       "    <tr>\n",
       "      <th>84</th>\n",
       "      <td>85</td>\n",
       "      <td>68.4</td>\n",
       "      <td>44.500000</td>\n",
       "      <td>35.6</td>\n",
       "      <td>13.6</td>\n",
       "    </tr>\n",
       "    <tr>\n",
       "      <th>85</th>\n",
       "      <td>86</td>\n",
       "      <td>213.5</td>\n",
       "      <td>43.000000</td>\n",
       "      <td>33.8</td>\n",
       "      <td>21.7</td>\n",
       "    </tr>\n",
       "    <tr>\n",
       "      <th>86</th>\n",
       "      <td>87</td>\n",
       "      <td>193.2</td>\n",
       "      <td>18.400000</td>\n",
       "      <td>65.7</td>\n",
       "      <td>15.2</td>\n",
       "    </tr>\n",
       "    <tr>\n",
       "      <th>87</th>\n",
       "      <td>88</td>\n",
       "      <td>76.3</td>\n",
       "      <td>27.500000</td>\n",
       "      <td>16.0</td>\n",
       "      <td>12.0</td>\n",
       "    </tr>\n",
       "    <tr>\n",
       "      <th>88</th>\n",
       "      <td>89</td>\n",
       "      <td>110.7</td>\n",
       "      <td>40.600000</td>\n",
       "      <td>63.2</td>\n",
       "      <td>16.0</td>\n",
       "    </tr>\n",
       "    <tr>\n",
       "      <th>89</th>\n",
       "      <td>90</td>\n",
       "      <td>88.3</td>\n",
       "      <td>25.500000</td>\n",
       "      <td>73.4</td>\n",
       "      <td>12.9</td>\n",
       "    </tr>\n",
       "    <tr>\n",
       "      <th>90</th>\n",
       "      <td>91</td>\n",
       "      <td>109.8</td>\n",
       "      <td>47.800000</td>\n",
       "      <td>51.4</td>\n",
       "      <td>16.7</td>\n",
       "    </tr>\n",
       "    <tr>\n",
       "      <th>91</th>\n",
       "      <td>92</td>\n",
       "      <td>134.3</td>\n",
       "      <td>4.900000</td>\n",
       "      <td>9.3</td>\n",
       "      <td>11.2</td>\n",
       "    </tr>\n",
       "    <tr>\n",
       "      <th>92</th>\n",
       "      <td>93</td>\n",
       "      <td>28.6</td>\n",
       "      <td>1.500000</td>\n",
       "      <td>33.0</td>\n",
       "      <td>7.3</td>\n",
       "    </tr>\n",
       "    <tr>\n",
       "      <th>93</th>\n",
       "      <td>94</td>\n",
       "      <td>217.7</td>\n",
       "      <td>33.500000</td>\n",
       "      <td>59.0</td>\n",
       "      <td>19.4</td>\n",
       "    </tr>\n",
       "    <tr>\n",
       "      <th>94</th>\n",
       "      <td>95</td>\n",
       "      <td>250.9</td>\n",
       "      <td>36.500000</td>\n",
       "      <td>72.3</td>\n",
       "      <td>22.2</td>\n",
       "    </tr>\n",
       "    <tr>\n",
       "      <th>95</th>\n",
       "      <td>96</td>\n",
       "      <td>107.4</td>\n",
       "      <td>14.000000</td>\n",
       "      <td>10.9</td>\n",
       "      <td>11.5</td>\n",
       "    </tr>\n",
       "    <tr>\n",
       "      <th>96</th>\n",
       "      <td>97</td>\n",
       "      <td>163.3</td>\n",
       "      <td>31.600000</td>\n",
       "      <td>52.9</td>\n",
       "      <td>16.9</td>\n",
       "    </tr>\n",
       "    <tr>\n",
       "      <th>98</th>\n",
       "      <td>99</td>\n",
       "      <td>210.0</td>\n",
       "      <td>20.000000</td>\n",
       "      <td>19.0</td>\n",
       "      <td>6.8</td>\n",
       "    </tr>\n",
       "    <tr>\n",
       "      <th>99</th>\n",
       "      <td>100</td>\n",
       "      <td>197.6</td>\n",
       "      <td>3.500000</td>\n",
       "      <td>5.9</td>\n",
       "      <td>11.7</td>\n",
       "    </tr>\n",
       "    <tr>\n",
       "      <th>100</th>\n",
       "      <td>101</td>\n",
       "      <td>184.9</td>\n",
       "      <td>21.000000</td>\n",
       "      <td>22.0</td>\n",
       "      <td>15.5</td>\n",
       "    </tr>\n",
       "    <tr>\n",
       "      <th>101</th>\n",
       "      <td>102</td>\n",
       "      <td>289.7</td>\n",
       "      <td>42.300000</td>\n",
       "      <td>51.2</td>\n",
       "      <td>25.4</td>\n",
       "    </tr>\n",
       "    <tr>\n",
       "      <th>102</th>\n",
       "      <td>103</td>\n",
       "      <td>135.2</td>\n",
       "      <td>41.700000</td>\n",
       "      <td>45.9</td>\n",
       "      <td>17.2</td>\n",
       "    </tr>\n",
       "    <tr>\n",
       "      <th>103</th>\n",
       "      <td>104</td>\n",
       "      <td>222.4</td>\n",
       "      <td>4.300000</td>\n",
       "      <td>49.8</td>\n",
       "      <td>11.7</td>\n",
       "    </tr>\n",
       "    <tr>\n",
       "      <th>104</th>\n",
       "      <td>105</td>\n",
       "      <td>296.4</td>\n",
       "      <td>36.300000</td>\n",
       "      <td>100.9</td>\n",
       "      <td>23.8</td>\n",
       "    </tr>\n",
       "    <tr>\n",
       "      <th>105</th>\n",
       "      <td>106</td>\n",
       "      <td>280.2</td>\n",
       "      <td>10.100000</td>\n",
       "      <td>21.4</td>\n",
       "      <td>14.8</td>\n",
       "    </tr>\n",
       "    <tr>\n",
       "      <th>106</th>\n",
       "      <td>107</td>\n",
       "      <td>187.9</td>\n",
       "      <td>17.200000</td>\n",
       "      <td>17.9</td>\n",
       "      <td>14.7</td>\n",
       "    </tr>\n",
       "    <tr>\n",
       "      <th>107</th>\n",
       "      <td>108</td>\n",
       "      <td>238.2</td>\n",
       "      <td>34.300000</td>\n",
       "      <td>5.3</td>\n",
       "      <td>20.7</td>\n",
       "    </tr>\n",
       "    <tr>\n",
       "      <th>108</th>\n",
       "      <td>109</td>\n",
       "      <td>137.9</td>\n",
       "      <td>46.400000</td>\n",
       "      <td>59.0</td>\n",
       "      <td>19.2</td>\n",
       "    </tr>\n",
       "    <tr>\n",
       "      <th>109</th>\n",
       "      <td>110</td>\n",
       "      <td>25.0</td>\n",
       "      <td>11.000000</td>\n",
       "      <td>29.7</td>\n",
       "      <td>7.2</td>\n",
       "    </tr>\n",
       "    <tr>\n",
       "      <th>110</th>\n",
       "      <td>111</td>\n",
       "      <td>90.4</td>\n",
       "      <td>0.300000</td>\n",
       "      <td>23.2</td>\n",
       "      <td>8.7</td>\n",
       "    </tr>\n",
       "    <tr>\n",
       "      <th>111</th>\n",
       "      <td>112</td>\n",
       "      <td>13.1</td>\n",
       "      <td>0.400000</td>\n",
       "      <td>25.6</td>\n",
       "      <td>5.3</td>\n",
       "    </tr>\n",
       "    <tr>\n",
       "      <th>112</th>\n",
       "      <td>113</td>\n",
       "      <td>255.4</td>\n",
       "      <td>26.900000</td>\n",
       "      <td>5.5</td>\n",
       "      <td>19.8</td>\n",
       "    </tr>\n",
       "    <tr>\n",
       "      <th>113</th>\n",
       "      <td>114</td>\n",
       "      <td>225.8</td>\n",
       "      <td>8.200000</td>\n",
       "      <td>56.5</td>\n",
       "      <td>13.4</td>\n",
       "    </tr>\n",
       "    <tr>\n",
       "      <th>114</th>\n",
       "      <td>115</td>\n",
       "      <td>241.7</td>\n",
       "      <td>38.000000</td>\n",
       "      <td>23.2</td>\n",
       "      <td>21.8</td>\n",
       "    </tr>\n",
       "    <tr>\n",
       "      <th>115</th>\n",
       "      <td>116</td>\n",
       "      <td>175.7</td>\n",
       "      <td>15.400000</td>\n",
       "      <td>2.4</td>\n",
       "      <td>14.1</td>\n",
       "    </tr>\n",
       "    <tr>\n",
       "      <th>116</th>\n",
       "      <td>117</td>\n",
       "      <td>209.6</td>\n",
       "      <td>20.600000</td>\n",
       "      <td>10.7</td>\n",
       "      <td>15.9</td>\n",
       "    </tr>\n",
       "    <tr>\n",
       "      <th>117</th>\n",
       "      <td>118</td>\n",
       "      <td>78.2</td>\n",
       "      <td>46.800000</td>\n",
       "      <td>34.5</td>\n",
       "      <td>14.6</td>\n",
       "    </tr>\n",
       "    <tr>\n",
       "      <th>118</th>\n",
       "      <td>119</td>\n",
       "      <td>75.1</td>\n",
       "      <td>35.000000</td>\n",
       "      <td>52.7</td>\n",
       "      <td>12.6</td>\n",
       "    </tr>\n",
       "    <tr>\n",
       "      <th>119</th>\n",
       "      <td>120</td>\n",
       "      <td>139.2</td>\n",
       "      <td>14.300000</td>\n",
       "      <td>25.6</td>\n",
       "      <td>12.2</td>\n",
       "    </tr>\n",
       "    <tr>\n",
       "      <th>120</th>\n",
       "      <td>121</td>\n",
       "      <td>76.4</td>\n",
       "      <td>0.800000</td>\n",
       "      <td>14.8</td>\n",
       "      <td>9.4</td>\n",
       "    </tr>\n",
       "    <tr>\n",
       "      <th>122</th>\n",
       "      <td>123</td>\n",
       "      <td>125.7</td>\n",
       "      <td>36.900000</td>\n",
       "      <td>79.2</td>\n",
       "      <td>15.9</td>\n",
       "    </tr>\n",
       "    <tr>\n",
       "      <th>123</th>\n",
       "      <td>124</td>\n",
       "      <td>19.4</td>\n",
       "      <td>16.000000</td>\n",
       "      <td>22.3</td>\n",
       "      <td>6.6</td>\n",
       "    </tr>\n",
       "    <tr>\n",
       "      <th>124</th>\n",
       "      <td>125</td>\n",
       "      <td>141.3</td>\n",
       "      <td>26.800000</td>\n",
       "      <td>46.2</td>\n",
       "      <td>15.5</td>\n",
       "    </tr>\n",
       "    <tr>\n",
       "      <th>125</th>\n",
       "      <td>126</td>\n",
       "      <td>18.8</td>\n",
       "      <td>21.700000</td>\n",
       "      <td>50.4</td>\n",
       "      <td>7.0</td>\n",
       "    </tr>\n",
       "    <tr>\n",
       "      <th>126</th>\n",
       "      <td>127</td>\n",
       "      <td>224.0</td>\n",
       "      <td>2.400000</td>\n",
       "      <td>15.6</td>\n",
       "      <td>11.6</td>\n",
       "    </tr>\n",
       "    <tr>\n",
       "      <th>127</th>\n",
       "      <td>128</td>\n",
       "      <td>123.1</td>\n",
       "      <td>34.600000</td>\n",
       "      <td>12.4</td>\n",
       "      <td>15.2</td>\n",
       "    </tr>\n",
       "    <tr>\n",
       "      <th>128</th>\n",
       "      <td>129</td>\n",
       "      <td>229.5</td>\n",
       "      <td>32.300000</td>\n",
       "      <td>74.2</td>\n",
       "      <td>19.7</td>\n",
       "    </tr>\n",
       "    <tr>\n",
       "      <th>129</th>\n",
       "      <td>130</td>\n",
       "      <td>87.2</td>\n",
       "      <td>11.800000</td>\n",
       "      <td>25.9</td>\n",
       "      <td>10.6</td>\n",
       "    </tr>\n",
       "    <tr>\n",
       "      <th>130</th>\n",
       "      <td>131</td>\n",
       "      <td>7.8</td>\n",
       "      <td>38.900000</td>\n",
       "      <td>50.6</td>\n",
       "      <td>6.6</td>\n",
       "    </tr>\n",
       "    <tr>\n",
       "      <th>131</th>\n",
       "      <td>132</td>\n",
       "      <td>80.2</td>\n",
       "      <td>0.000000</td>\n",
       "      <td>9.2</td>\n",
       "      <td>8.8</td>\n",
       "    </tr>\n",
       "    <tr>\n",
       "      <th>132</th>\n",
       "      <td>133</td>\n",
       "      <td>220.3</td>\n",
       "      <td>49.000000</td>\n",
       "      <td>3.2</td>\n",
       "      <td>24.7</td>\n",
       "    </tr>\n",
       "    <tr>\n",
       "      <th>133</th>\n",
       "      <td>134</td>\n",
       "      <td>59.6</td>\n",
       "      <td>12.000000</td>\n",
       "      <td>43.1</td>\n",
       "      <td>9.7</td>\n",
       "    </tr>\n",
       "    <tr>\n",
       "      <th>134</th>\n",
       "      <td>135</td>\n",
       "      <td>0.7</td>\n",
       "      <td>39.600000</td>\n",
       "      <td>8.7</td>\n",
       "      <td>1.6</td>\n",
       "    </tr>\n",
       "    <tr>\n",
       "      <th>135</th>\n",
       "      <td>136</td>\n",
       "      <td>265.2</td>\n",
       "      <td>2.900000</td>\n",
       "      <td>43.0</td>\n",
       "      <td>12.7</td>\n",
       "    </tr>\n",
       "    <tr>\n",
       "      <th>136</th>\n",
       "      <td>137</td>\n",
       "      <td>8.4</td>\n",
       "      <td>27.200000</td>\n",
       "      <td>2.1</td>\n",
       "      <td>5.7</td>\n",
       "    </tr>\n",
       "    <tr>\n",
       "      <th>137</th>\n",
       "      <td>138</td>\n",
       "      <td>219.8</td>\n",
       "      <td>33.500000</td>\n",
       "      <td>45.1</td>\n",
       "      <td>19.6</td>\n",
       "    </tr>\n",
       "    <tr>\n",
       "      <th>138</th>\n",
       "      <td>139</td>\n",
       "      <td>36.9</td>\n",
       "      <td>38.600000</td>\n",
       "      <td>65.6</td>\n",
       "      <td>10.8</td>\n",
       "    </tr>\n",
       "    <tr>\n",
       "      <th>139</th>\n",
       "      <td>140</td>\n",
       "      <td>48.3</td>\n",
       "      <td>47.000000</td>\n",
       "      <td>8.5</td>\n",
       "      <td>11.6</td>\n",
       "    </tr>\n",
       "    <tr>\n",
       "      <th>140</th>\n",
       "      <td>141</td>\n",
       "      <td>25.6</td>\n",
       "      <td>39.000000</td>\n",
       "      <td>9.3</td>\n",
       "      <td>9.5</td>\n",
       "    </tr>\n",
       "    <tr>\n",
       "      <th>141</th>\n",
       "      <td>142</td>\n",
       "      <td>273.7</td>\n",
       "      <td>28.900000</td>\n",
       "      <td>59.7</td>\n",
       "      <td>20.8</td>\n",
       "    </tr>\n",
       "    <tr>\n",
       "      <th>142</th>\n",
       "      <td>143</td>\n",
       "      <td>43.0</td>\n",
       "      <td>25.900000</td>\n",
       "      <td>20.5</td>\n",
       "      <td>9.6</td>\n",
       "    </tr>\n",
       "    <tr>\n",
       "      <th>143</th>\n",
       "      <td>144</td>\n",
       "      <td>184.9</td>\n",
       "      <td>43.900000</td>\n",
       "      <td>1.7</td>\n",
       "      <td>20.7</td>\n",
       "    </tr>\n",
       "    <tr>\n",
       "      <th>144</th>\n",
       "      <td>145</td>\n",
       "      <td>73.4</td>\n",
       "      <td>17.000000</td>\n",
       "      <td>12.9</td>\n",
       "      <td>10.9</td>\n",
       "    </tr>\n",
       "    <tr>\n",
       "      <th>145</th>\n",
       "      <td>146</td>\n",
       "      <td>193.7</td>\n",
       "      <td>35.400000</td>\n",
       "      <td>75.6</td>\n",
       "      <td>19.2</td>\n",
       "    </tr>\n",
       "    <tr>\n",
       "      <th>146</th>\n",
       "      <td>147</td>\n",
       "      <td>220.5</td>\n",
       "      <td>33.200000</td>\n",
       "      <td>37.9</td>\n",
       "      <td>20.1</td>\n",
       "    </tr>\n",
       "    <tr>\n",
       "      <th>147</th>\n",
       "      <td>148</td>\n",
       "      <td>104.6</td>\n",
       "      <td>5.700000</td>\n",
       "      <td>34.4</td>\n",
       "      <td>10.4</td>\n",
       "    </tr>\n",
       "    <tr>\n",
       "      <th>148</th>\n",
       "      <td>149</td>\n",
       "      <td>96.2</td>\n",
       "      <td>14.800000</td>\n",
       "      <td>38.9</td>\n",
       "      <td>11.4</td>\n",
       "    </tr>\n",
       "    <tr>\n",
       "      <th>149</th>\n",
       "      <td>150</td>\n",
       "      <td>140.3</td>\n",
       "      <td>1.900000</td>\n",
       "      <td>9.0</td>\n",
       "      <td>10.3</td>\n",
       "    </tr>\n",
       "    <tr>\n",
       "      <th>150</th>\n",
       "      <td>151</td>\n",
       "      <td>240.1</td>\n",
       "      <td>7.300000</td>\n",
       "      <td>8.7</td>\n",
       "      <td>13.2</td>\n",
       "    </tr>\n",
       "    <tr>\n",
       "      <th>151</th>\n",
       "      <td>152</td>\n",
       "      <td>243.2</td>\n",
       "      <td>49.000000</td>\n",
       "      <td>44.3</td>\n",
       "      <td>25.4</td>\n",
       "    </tr>\n",
       "    <tr>\n",
       "      <th>152</th>\n",
       "      <td>153</td>\n",
       "      <td>38.0</td>\n",
       "      <td>40.300000</td>\n",
       "      <td>11.9</td>\n",
       "      <td>10.9</td>\n",
       "    </tr>\n",
       "    <tr>\n",
       "      <th>153</th>\n",
       "      <td>154</td>\n",
       "      <td>44.7</td>\n",
       "      <td>25.800000</td>\n",
       "      <td>20.6</td>\n",
       "      <td>10.1</td>\n",
       "    </tr>\n",
       "    <tr>\n",
       "      <th>154</th>\n",
       "      <td>155</td>\n",
       "      <td>280.7</td>\n",
       "      <td>13.900000</td>\n",
       "      <td>37.0</td>\n",
       "      <td>16.1</td>\n",
       "    </tr>\n",
       "    <tr>\n",
       "      <th>155</th>\n",
       "      <td>156</td>\n",
       "      <td>121.0</td>\n",
       "      <td>8.400000</td>\n",
       "      <td>48.7</td>\n",
       "      <td>11.6</td>\n",
       "    </tr>\n",
       "    <tr>\n",
       "      <th>156</th>\n",
       "      <td>157</td>\n",
       "      <td>197.6</td>\n",
       "      <td>23.300000</td>\n",
       "      <td>14.2</td>\n",
       "      <td>16.6</td>\n",
       "    </tr>\n",
       "    <tr>\n",
       "      <th>157</th>\n",
       "      <td>158</td>\n",
       "      <td>171.3</td>\n",
       "      <td>39.700000</td>\n",
       "      <td>37.7</td>\n",
       "      <td>19.0</td>\n",
       "    </tr>\n",
       "    <tr>\n",
       "      <th>158</th>\n",
       "      <td>159</td>\n",
       "      <td>187.8</td>\n",
       "      <td>21.100000</td>\n",
       "      <td>9.5</td>\n",
       "      <td>15.6</td>\n",
       "    </tr>\n",
       "    <tr>\n",
       "      <th>159</th>\n",
       "      <td>160</td>\n",
       "      <td>4.1</td>\n",
       "      <td>11.600000</td>\n",
       "      <td>5.7</td>\n",
       "      <td>3.2</td>\n",
       "    </tr>\n",
       "    <tr>\n",
       "      <th>160</th>\n",
       "      <td>161</td>\n",
       "      <td>93.9</td>\n",
       "      <td>43.500000</td>\n",
       "      <td>50.5</td>\n",
       "      <td>15.3</td>\n",
       "    </tr>\n",
       "    <tr>\n",
       "      <th>161</th>\n",
       "      <td>162</td>\n",
       "      <td>149.8</td>\n",
       "      <td>1.300000</td>\n",
       "      <td>24.3</td>\n",
       "      <td>10.1</td>\n",
       "    </tr>\n",
       "    <tr>\n",
       "      <th>162</th>\n",
       "      <td>163</td>\n",
       "      <td>11.7</td>\n",
       "      <td>36.900000</td>\n",
       "      <td>45.2</td>\n",
       "      <td>7.3</td>\n",
       "    </tr>\n",
       "    <tr>\n",
       "      <th>163</th>\n",
       "      <td>164</td>\n",
       "      <td>131.7</td>\n",
       "      <td>18.400000</td>\n",
       "      <td>34.6</td>\n",
       "      <td>12.9</td>\n",
       "    </tr>\n",
       "    <tr>\n",
       "      <th>164</th>\n",
       "      <td>165</td>\n",
       "      <td>172.5</td>\n",
       "      <td>18.100000</td>\n",
       "      <td>30.7</td>\n",
       "      <td>14.4</td>\n",
       "    </tr>\n",
       "    <tr>\n",
       "      <th>165</th>\n",
       "      <td>166</td>\n",
       "      <td>85.7</td>\n",
       "      <td>35.800000</td>\n",
       "      <td>49.3</td>\n",
       "      <td>13.3</td>\n",
       "    </tr>\n",
       "    <tr>\n",
       "      <th>166</th>\n",
       "      <td>167</td>\n",
       "      <td>188.4</td>\n",
       "      <td>18.100000</td>\n",
       "      <td>25.6</td>\n",
       "      <td>14.9</td>\n",
       "    </tr>\n",
       "    <tr>\n",
       "      <th>167</th>\n",
       "      <td>168</td>\n",
       "      <td>163.5</td>\n",
       "      <td>36.800000</td>\n",
       "      <td>7.4</td>\n",
       "      <td>18.0</td>\n",
       "    </tr>\n",
       "    <tr>\n",
       "      <th>168</th>\n",
       "      <td>169</td>\n",
       "      <td>117.2</td>\n",
       "      <td>14.700000</td>\n",
       "      <td>5.4</td>\n",
       "      <td>11.9</td>\n",
       "    </tr>\n",
       "    <tr>\n",
       "      <th>169</th>\n",
       "      <td>170</td>\n",
       "      <td>234.5</td>\n",
       "      <td>3.400000</td>\n",
       "      <td>84.8</td>\n",
       "      <td>11.9</td>\n",
       "    </tr>\n",
       "    <tr>\n",
       "      <th>170</th>\n",
       "      <td>171</td>\n",
       "      <td>17.9</td>\n",
       "      <td>37.600000</td>\n",
       "      <td>21.6</td>\n",
       "      <td>8.0</td>\n",
       "    </tr>\n",
       "    <tr>\n",
       "      <th>171</th>\n",
       "      <td>172</td>\n",
       "      <td>206.8</td>\n",
       "      <td>5.200000</td>\n",
       "      <td>19.4</td>\n",
       "      <td>12.2</td>\n",
       "    </tr>\n",
       "    <tr>\n",
       "      <th>172</th>\n",
       "      <td>173</td>\n",
       "      <td>215.4</td>\n",
       "      <td>23.600000</td>\n",
       "      <td>57.6</td>\n",
       "      <td>17.1</td>\n",
       "    </tr>\n",
       "    <tr>\n",
       "      <th>173</th>\n",
       "      <td>174</td>\n",
       "      <td>284.3</td>\n",
       "      <td>10.600000</td>\n",
       "      <td>6.4</td>\n",
       "      <td>15.0</td>\n",
       "    </tr>\n",
       "    <tr>\n",
       "      <th>174</th>\n",
       "      <td>175</td>\n",
       "      <td>50.0</td>\n",
       "      <td>11.600000</td>\n",
       "      <td>18.4</td>\n",
       "      <td>8.4</td>\n",
       "    </tr>\n",
       "    <tr>\n",
       "      <th>175</th>\n",
       "      <td>176</td>\n",
       "      <td>164.5</td>\n",
       "      <td>20.900000</td>\n",
       "      <td>47.4</td>\n",
       "      <td>14.5</td>\n",
       "    </tr>\n",
       "    <tr>\n",
       "      <th>176</th>\n",
       "      <td>177</td>\n",
       "      <td>19.6</td>\n",
       "      <td>20.100000</td>\n",
       "      <td>17.0</td>\n",
       "      <td>7.6</td>\n",
       "    </tr>\n",
       "    <tr>\n",
       "      <th>177</th>\n",
       "      <td>178</td>\n",
       "      <td>168.4</td>\n",
       "      <td>7.100000</td>\n",
       "      <td>12.8</td>\n",
       "      <td>11.7</td>\n",
       "    </tr>\n",
       "    <tr>\n",
       "      <th>178</th>\n",
       "      <td>179</td>\n",
       "      <td>222.4</td>\n",
       "      <td>3.400000</td>\n",
       "      <td>13.1</td>\n",
       "      <td>11.5</td>\n",
       "    </tr>\n",
       "    <tr>\n",
       "      <th>179</th>\n",
       "      <td>180</td>\n",
       "      <td>276.9</td>\n",
       "      <td>48.900000</td>\n",
       "      <td>41.8</td>\n",
       "      <td>27.0</td>\n",
       "    </tr>\n",
       "    <tr>\n",
       "      <th>180</th>\n",
       "      <td>181</td>\n",
       "      <td>248.4</td>\n",
       "      <td>30.200000</td>\n",
       "      <td>20.3</td>\n",
       "      <td>20.2</td>\n",
       "    </tr>\n",
       "    <tr>\n",
       "      <th>181</th>\n",
       "      <td>182</td>\n",
       "      <td>170.2</td>\n",
       "      <td>7.800000</td>\n",
       "      <td>35.2</td>\n",
       "      <td>11.7</td>\n",
       "    </tr>\n",
       "    <tr>\n",
       "      <th>182</th>\n",
       "      <td>183</td>\n",
       "      <td>276.7</td>\n",
       "      <td>2.300000</td>\n",
       "      <td>23.7</td>\n",
       "      <td>11.8</td>\n",
       "    </tr>\n",
       "    <tr>\n",
       "      <th>183</th>\n",
       "      <td>184</td>\n",
       "      <td>165.6</td>\n",
       "      <td>10.000000</td>\n",
       "      <td>17.6</td>\n",
       "      <td>12.6</td>\n",
       "    </tr>\n",
       "    <tr>\n",
       "      <th>184</th>\n",
       "      <td>185</td>\n",
       "      <td>156.6</td>\n",
       "      <td>2.600000</td>\n",
       "      <td>8.3</td>\n",
       "      <td>10.5</td>\n",
       "    </tr>\n",
       "    <tr>\n",
       "      <th>185</th>\n",
       "      <td>186</td>\n",
       "      <td>218.5</td>\n",
       "      <td>5.400000</td>\n",
       "      <td>27.4</td>\n",
       "      <td>12.2</td>\n",
       "    </tr>\n",
       "    <tr>\n",
       "      <th>186</th>\n",
       "      <td>187</td>\n",
       "      <td>56.2</td>\n",
       "      <td>5.700000</td>\n",
       "      <td>29.7</td>\n",
       "      <td>8.7</td>\n",
       "    </tr>\n",
       "    <tr>\n",
       "      <th>187</th>\n",
       "      <td>188</td>\n",
       "      <td>287.6</td>\n",
       "      <td>43.000000</td>\n",
       "      <td>71.8</td>\n",
       "      <td>26.2</td>\n",
       "    </tr>\n",
       "    <tr>\n",
       "      <th>188</th>\n",
       "      <td>189</td>\n",
       "      <td>253.8</td>\n",
       "      <td>21.300000</td>\n",
       "      <td>30.0</td>\n",
       "      <td>17.6</td>\n",
       "    </tr>\n",
       "    <tr>\n",
       "      <th>189</th>\n",
       "      <td>190</td>\n",
       "      <td>205.0</td>\n",
       "      <td>45.100000</td>\n",
       "      <td>19.6</td>\n",
       "      <td>22.6</td>\n",
       "    </tr>\n",
       "    <tr>\n",
       "      <th>190</th>\n",
       "      <td>191</td>\n",
       "      <td>139.5</td>\n",
       "      <td>2.100000</td>\n",
       "      <td>26.6</td>\n",
       "      <td>10.3</td>\n",
       "    </tr>\n",
       "    <tr>\n",
       "      <th>191</th>\n",
       "      <td>192</td>\n",
       "      <td>191.1</td>\n",
       "      <td>28.700000</td>\n",
       "      <td>18.2</td>\n",
       "      <td>17.3</td>\n",
       "    </tr>\n",
       "    <tr>\n",
       "      <th>192</th>\n",
       "      <td>193</td>\n",
       "      <td>286.0</td>\n",
       "      <td>13.900000</td>\n",
       "      <td>3.7</td>\n",
       "      <td>15.9</td>\n",
       "    </tr>\n",
       "    <tr>\n",
       "      <th>193</th>\n",
       "      <td>194</td>\n",
       "      <td>18.7</td>\n",
       "      <td>12.100000</td>\n",
       "      <td>23.4</td>\n",
       "      <td>6.7</td>\n",
       "    </tr>\n",
       "    <tr>\n",
       "      <th>194</th>\n",
       "      <td>195</td>\n",
       "      <td>39.5</td>\n",
       "      <td>41.100000</td>\n",
       "      <td>5.8</td>\n",
       "      <td>10.8</td>\n",
       "    </tr>\n",
       "    <tr>\n",
       "      <th>195</th>\n",
       "      <td>196</td>\n",
       "      <td>75.5</td>\n",
       "      <td>10.800000</td>\n",
       "      <td>6.0</td>\n",
       "      <td>9.9</td>\n",
       "    </tr>\n",
       "    <tr>\n",
       "      <th>196</th>\n",
       "      <td>197</td>\n",
       "      <td>17.2</td>\n",
       "      <td>4.100000</td>\n",
       "      <td>31.6</td>\n",
       "      <td>5.9</td>\n",
       "    </tr>\n",
       "    <tr>\n",
       "      <th>197</th>\n",
       "      <td>198</td>\n",
       "      <td>166.8</td>\n",
       "      <td>42.000000</td>\n",
       "      <td>3.6</td>\n",
       "      <td>19.6</td>\n",
       "    </tr>\n",
       "    <tr>\n",
       "      <th>198</th>\n",
       "      <td>199</td>\n",
       "      <td>149.7</td>\n",
       "      <td>35.600000</td>\n",
       "      <td>6.0</td>\n",
       "      <td>17.3</td>\n",
       "    </tr>\n",
       "    <tr>\n",
       "      <th>199</th>\n",
       "      <td>200</td>\n",
       "      <td>38.2</td>\n",
       "      <td>3.700000</td>\n",
       "      <td>13.8</td>\n",
       "      <td>7.6</td>\n",
       "    </tr>\n",
       "    <tr>\n",
       "      <th>200</th>\n",
       "      <td>201</td>\n",
       "      <td>94.2</td>\n",
       "      <td>4.900000</td>\n",
       "      <td>8.1</td>\n",
       "      <td>9.7</td>\n",
       "    </tr>\n",
       "    <tr>\n",
       "      <th>201</th>\n",
       "      <td>202</td>\n",
       "      <td>177.0</td>\n",
       "      <td>9.300000</td>\n",
       "      <td>6.4</td>\n",
       "      <td>12.8</td>\n",
       "    </tr>\n",
       "    <tr>\n",
       "      <th>202</th>\n",
       "      <td>203</td>\n",
       "      <td>283.6</td>\n",
       "      <td>42.000000</td>\n",
       "      <td>66.2</td>\n",
       "      <td>25.5</td>\n",
       "    </tr>\n",
       "    <tr>\n",
       "      <th>203</th>\n",
       "      <td>204</td>\n",
       "      <td>232.1</td>\n",
       "      <td>8.600000</td>\n",
       "      <td>8.7</td>\n",
       "      <td>13.4</td>\n",
       "    </tr>\n",
       "  </tbody>\n",
       "</table>\n",
       "</div>"
      ],
      "text/plain": [
       "     Sno     TV      radio  newspaper  sales\n",
       "0      1  219.0  23.247761       34.5   48.9\n",
       "1      2  230.1  37.800000       69.2   22.1\n",
       "2      3   44.5  39.300000       45.1   10.4\n",
       "3      4   17.2  45.900000       69.3    9.3\n",
       "4      5  151.5  41.300000       58.5   18.5\n",
       "5      6  180.8  10.800000       58.4   12.9\n",
       "6      7    8.7  48.900000       75.0    7.2\n",
       "7      8   57.5  32.800000       23.5   11.8\n",
       "8      9  120.2  19.600000       11.6   13.2\n",
       "9     10    8.6   2.100000        1.0    4.8\n",
       "10    11  199.8   2.600000       21.2   10.6\n",
       "11    12   66.1   5.800000       24.2    8.6\n",
       "12    13  214.7  24.000000        4.0   17.4\n",
       "13    14   23.8  35.100000       65.9    9.2\n",
       "14    15   97.5   7.600000        7.2    9.7\n",
       "15    16  204.1  32.900000       46.0   19.0\n",
       "16    17  195.4  47.700000       52.9   22.4\n",
       "17    18   67.8  36.600000      114.0   12.5\n",
       "18    19  281.4  39.600000       55.8   24.4\n",
       "19    20   69.2  20.500000       18.3   11.3\n",
       "20    21  147.3  23.900000       19.1   14.6\n",
       "21    22  218.4  27.700000       53.4   18.0\n",
       "22    23  237.4   5.100000       23.5   12.5\n",
       "23    24   13.2  15.900000       49.6    5.6\n",
       "24    25  228.3  16.900000       26.2   15.5\n",
       "25    26   62.3  12.600000       18.3    9.7\n",
       "26    27  262.9   3.500000       19.5   12.0\n",
       "27    28  142.9  29.300000       12.6   15.0\n",
       "28    29  240.1  16.700000       22.9   15.9\n",
       "29    30  248.8  27.100000       22.9   18.9\n",
       "30    31   70.6  16.000000       40.8   10.5\n",
       "31    32  292.9  28.300000       43.2   21.4\n",
       "32    33  112.9  17.400000       38.6   11.9\n",
       "33    34   97.2   1.500000       30.0    9.6\n",
       "34    35  265.6  20.000000        0.3   17.4\n",
       "35    36   95.7   1.400000        7.4    9.5\n",
       "36    37  290.7   4.100000        8.5   12.8\n",
       "37    38  266.9  43.800000        5.0   25.4\n",
       "38    39   74.7  49.400000       45.7   14.7\n",
       "39    40   43.1  26.700000       35.1   10.1\n",
       "40    41  228.0  37.700000       32.0   21.5\n",
       "41    42  202.5  22.300000       31.6   16.6\n",
       "42    43  177.0  33.400000       38.7   17.1\n",
       "43    44  293.6  27.700000        1.8   20.7\n",
       "44    45  206.9   8.400000       26.4   12.9\n",
       "45    46   25.1  25.700000       43.3    8.5\n",
       "46    47  175.1  22.500000       31.5   14.9\n",
       "47    48   89.7   9.900000       35.7   10.6\n",
       "48    49  239.9  41.500000       18.5   23.2\n",
       "49    50  227.2  15.800000       49.9   14.8\n",
       "50    51   66.9  11.700000       36.8    9.7\n",
       "51    52  199.8   3.100000       34.6   11.4\n",
       "52    53  100.4   9.600000        3.6   10.7\n",
       "53    54  216.4  41.700000       39.6   22.6\n",
       "54    55  182.6  46.200000       58.7   21.2\n",
       "55    56  262.7  28.800000       15.9   20.2\n",
       "56    57  198.9  49.400000       60.0   23.7\n",
       "57    58    7.3  28.100000       41.4    5.5\n",
       "58    59  136.2  19.200000       16.6   13.2\n",
       "59    60  210.8  49.600000       37.7   23.8\n",
       "60    61  210.7  29.500000        9.3   18.4\n",
       "61    62   53.5   2.000000       21.4    8.1\n",
       "62    63  261.3  42.700000       54.7   24.2\n",
       "63    64  239.3  15.500000       27.3   15.7\n",
       "64    65  102.7  29.600000        8.4   14.0\n",
       "65    66  131.1  42.800000       28.9   18.0\n",
       "66    67   69.0   9.300000        0.9    9.3\n",
       "67    68   31.5  24.600000        2.2    9.5\n",
       "68    69  139.3  14.500000       10.2   13.4\n",
       "69    70  237.4  27.500000       11.0   18.9\n",
       "70    71  216.8  43.900000       27.2   22.3\n",
       "71    72  199.1  30.600000       38.7   18.3\n",
       "72    73  109.8  14.300000       31.7   12.4\n",
       "73    74   26.8  33.000000       19.3    8.8\n",
       "74    75  129.4   5.700000       31.3   11.0\n",
       "75    76  213.4  24.600000       13.1   17.0\n",
       "76    77   16.9  43.700000       89.4    8.7\n",
       "77    78   27.5   1.600000       20.7    6.9\n",
       "78    79  120.5  28.500000       14.2   14.2\n",
       "79    80    5.4  29.900000        9.4    5.3\n",
       "80    81  116.0   7.700000       23.1   11.0\n",
       "81    82   76.4  26.700000       22.3   11.8\n",
       "82    83  239.8   4.100000       36.9   12.3\n",
       "83    84   75.3  20.300000       32.5   11.3\n",
       "84    85   68.4  44.500000       35.6   13.6\n",
       "85    86  213.5  43.000000       33.8   21.7\n",
       "86    87  193.2  18.400000       65.7   15.2\n",
       "87    88   76.3  27.500000       16.0   12.0\n",
       "88    89  110.7  40.600000       63.2   16.0\n",
       "89    90   88.3  25.500000       73.4   12.9\n",
       "90    91  109.8  47.800000       51.4   16.7\n",
       "91    92  134.3   4.900000        9.3   11.2\n",
       "92    93   28.6   1.500000       33.0    7.3\n",
       "93    94  217.7  33.500000       59.0   19.4\n",
       "94    95  250.9  36.500000       72.3   22.2\n",
       "95    96  107.4  14.000000       10.9   11.5\n",
       "96    97  163.3  31.600000       52.9   16.9\n",
       "98    99  210.0  20.000000       19.0    6.8\n",
       "99   100  197.6   3.500000        5.9   11.7\n",
       "100  101  184.9  21.000000       22.0   15.5\n",
       "101  102  289.7  42.300000       51.2   25.4\n",
       "102  103  135.2  41.700000       45.9   17.2\n",
       "103  104  222.4   4.300000       49.8   11.7\n",
       "104  105  296.4  36.300000      100.9   23.8\n",
       "105  106  280.2  10.100000       21.4   14.8\n",
       "106  107  187.9  17.200000       17.9   14.7\n",
       "107  108  238.2  34.300000        5.3   20.7\n",
       "108  109  137.9  46.400000       59.0   19.2\n",
       "109  110   25.0  11.000000       29.7    7.2\n",
       "110  111   90.4   0.300000       23.2    8.7\n",
       "111  112   13.1   0.400000       25.6    5.3\n",
       "112  113  255.4  26.900000        5.5   19.8\n",
       "113  114  225.8   8.200000       56.5   13.4\n",
       "114  115  241.7  38.000000       23.2   21.8\n",
       "115  116  175.7  15.400000        2.4   14.1\n",
       "116  117  209.6  20.600000       10.7   15.9\n",
       "117  118   78.2  46.800000       34.5   14.6\n",
       "118  119   75.1  35.000000       52.7   12.6\n",
       "119  120  139.2  14.300000       25.6   12.2\n",
       "120  121   76.4   0.800000       14.8    9.4\n",
       "122  123  125.7  36.900000       79.2   15.9\n",
       "123  124   19.4  16.000000       22.3    6.6\n",
       "124  125  141.3  26.800000       46.2   15.5\n",
       "125  126   18.8  21.700000       50.4    7.0\n",
       "126  127  224.0   2.400000       15.6   11.6\n",
       "127  128  123.1  34.600000       12.4   15.2\n",
       "128  129  229.5  32.300000       74.2   19.7\n",
       "129  130   87.2  11.800000       25.9   10.6\n",
       "130  131    7.8  38.900000       50.6    6.6\n",
       "131  132   80.2   0.000000        9.2    8.8\n",
       "132  133  220.3  49.000000        3.2   24.7\n",
       "133  134   59.6  12.000000       43.1    9.7\n",
       "134  135    0.7  39.600000        8.7    1.6\n",
       "135  136  265.2   2.900000       43.0   12.7\n",
       "136  137    8.4  27.200000        2.1    5.7\n",
       "137  138  219.8  33.500000       45.1   19.6\n",
       "138  139   36.9  38.600000       65.6   10.8\n",
       "139  140   48.3  47.000000        8.5   11.6\n",
       "140  141   25.6  39.000000        9.3    9.5\n",
       "141  142  273.7  28.900000       59.7   20.8\n",
       "142  143   43.0  25.900000       20.5    9.6\n",
       "143  144  184.9  43.900000        1.7   20.7\n",
       "144  145   73.4  17.000000       12.9   10.9\n",
       "145  146  193.7  35.400000       75.6   19.2\n",
       "146  147  220.5  33.200000       37.9   20.1\n",
       "147  148  104.6   5.700000       34.4   10.4\n",
       "148  149   96.2  14.800000       38.9   11.4\n",
       "149  150  140.3   1.900000        9.0   10.3\n",
       "150  151  240.1   7.300000        8.7   13.2\n",
       "151  152  243.2  49.000000       44.3   25.4\n",
       "152  153   38.0  40.300000       11.9   10.9\n",
       "153  154   44.7  25.800000       20.6   10.1\n",
       "154  155  280.7  13.900000       37.0   16.1\n",
       "155  156  121.0   8.400000       48.7   11.6\n",
       "156  157  197.6  23.300000       14.2   16.6\n",
       "157  158  171.3  39.700000       37.7   19.0\n",
       "158  159  187.8  21.100000        9.5   15.6\n",
       "159  160    4.1  11.600000        5.7    3.2\n",
       "160  161   93.9  43.500000       50.5   15.3\n",
       "161  162  149.8   1.300000       24.3   10.1\n",
       "162  163   11.7  36.900000       45.2    7.3\n",
       "163  164  131.7  18.400000       34.6   12.9\n",
       "164  165  172.5  18.100000       30.7   14.4\n",
       "165  166   85.7  35.800000       49.3   13.3\n",
       "166  167  188.4  18.100000       25.6   14.9\n",
       "167  168  163.5  36.800000        7.4   18.0\n",
       "168  169  117.2  14.700000        5.4   11.9\n",
       "169  170  234.5   3.400000       84.8   11.9\n",
       "170  171   17.9  37.600000       21.6    8.0\n",
       "171  172  206.8   5.200000       19.4   12.2\n",
       "172  173  215.4  23.600000       57.6   17.1\n",
       "173  174  284.3  10.600000        6.4   15.0\n",
       "174  175   50.0  11.600000       18.4    8.4\n",
       "175  176  164.5  20.900000       47.4   14.5\n",
       "176  177   19.6  20.100000       17.0    7.6\n",
       "177  178  168.4   7.100000       12.8   11.7\n",
       "178  179  222.4   3.400000       13.1   11.5\n",
       "179  180  276.9  48.900000       41.8   27.0\n",
       "180  181  248.4  30.200000       20.3   20.2\n",
       "181  182  170.2   7.800000       35.2   11.7\n",
       "182  183  276.7   2.300000       23.7   11.8\n",
       "183  184  165.6  10.000000       17.6   12.6\n",
       "184  185  156.6   2.600000        8.3   10.5\n",
       "185  186  218.5   5.400000       27.4   12.2\n",
       "186  187   56.2   5.700000       29.7    8.7\n",
       "187  188  287.6  43.000000       71.8   26.2\n",
       "188  189  253.8  21.300000       30.0   17.6\n",
       "189  190  205.0  45.100000       19.6   22.6\n",
       "190  191  139.5   2.100000       26.6   10.3\n",
       "191  192  191.1  28.700000       18.2   17.3\n",
       "192  193  286.0  13.900000        3.7   15.9\n",
       "193  194   18.7  12.100000       23.4    6.7\n",
       "194  195   39.5  41.100000        5.8   10.8\n",
       "195  196   75.5  10.800000        6.0    9.9\n",
       "196  197   17.2   4.100000       31.6    5.9\n",
       "197  198  166.8  42.000000        3.6   19.6\n",
       "198  199  149.7  35.600000        6.0   17.3\n",
       "199  200   38.2   3.700000       13.8    7.6\n",
       "200  201   94.2   4.900000        8.1    9.7\n",
       "201  202  177.0   9.300000        6.4   12.8\n",
       "202  203  283.6  42.000000       66.2   25.5\n",
       "203  204  232.1   8.600000        8.7   13.4"
      ]
     },
     "execution_count": 8,
     "metadata": {},
     "output_type": "execute_result"
    }
   ],
   "source": [
    "# Replacing the NaN values with the average value.\n",
    "df_marketing=df_marketing.fillna(df_marketing.mean())\n",
    "df_marketing"
   ]
  },
  {
   "cell_type": "markdown",
   "metadata": {},
   "source": [
    "## -----------------------------------------------------------------------------------------------------------------------------##"
   ]
  },
  {
   "cell_type": "markdown",
   "metadata": {},
   "source": [
    "#### e)  Once again perform the  Task b) and c) to check the shape and statistics of the data. Explain the changes."
   ]
  },
  {
   "cell_type": "code",
   "execution_count": 9,
   "metadata": {},
   "outputs": [
    {
     "name": "stdout",
     "output_type": "stream",
     "text": [
      "The numbers of the entries are: 202 and total numbers of columns are: 5 \n",
      "\n"
     ]
    },
    {
     "data": {
      "text/html": [
       "<div>\n",
       "<style scoped>\n",
       "    .dataframe tbody tr th:only-of-type {\n",
       "        vertical-align: middle;\n",
       "    }\n",
       "\n",
       "    .dataframe tbody tr th {\n",
       "        vertical-align: top;\n",
       "    }\n",
       "\n",
       "    .dataframe thead th {\n",
       "        text-align: right;\n",
       "    }\n",
       "</style>\n",
       "<table border=\"1\" class=\"dataframe\">\n",
       "  <thead>\n",
       "    <tr style=\"text-align: right;\">\n",
       "      <th></th>\n",
       "      <th>Sno</th>\n",
       "      <th>TV</th>\n",
       "      <th>radio</th>\n",
       "      <th>newspaper</th>\n",
       "      <th>sales</th>\n",
       "    </tr>\n",
       "  </thead>\n",
       "  <tbody>\n",
       "    <tr>\n",
       "      <th>count</th>\n",
       "      <td>202.000000</td>\n",
       "      <td>202.000000</td>\n",
       "      <td>202.000000</td>\n",
       "      <td>202.000000</td>\n",
       "      <td>202.000000</td>\n",
       "    </tr>\n",
       "    <tr>\n",
       "      <th>mean</th>\n",
       "      <td>102.425743</td>\n",
       "      <td>147.710396</td>\n",
       "      <td>23.247761</td>\n",
       "      <td>30.516337</td>\n",
       "      <td>14.159406</td>\n",
       "    </tr>\n",
       "    <tr>\n",
       "      <th>std</th>\n",
       "      <td>59.310021</td>\n",
       "      <td>85.689200</td>\n",
       "      <td>14.774545</td>\n",
       "      <td>21.687071</td>\n",
       "      <td>5.765728</td>\n",
       "    </tr>\n",
       "    <tr>\n",
       "      <th>min</th>\n",
       "      <td>1.000000</td>\n",
       "      <td>0.700000</td>\n",
       "      <td>0.000000</td>\n",
       "      <td>0.300000</td>\n",
       "      <td>1.600000</td>\n",
       "    </tr>\n",
       "    <tr>\n",
       "      <th>25%</th>\n",
       "      <td>51.250000</td>\n",
       "      <td>74.800000</td>\n",
       "      <td>10.025000</td>\n",
       "      <td>12.825000</td>\n",
       "      <td>10.325000</td>\n",
       "    </tr>\n",
       "    <tr>\n",
       "      <th>50%</th>\n",
       "      <td>102.500000</td>\n",
       "      <td>150.650000</td>\n",
       "      <td>22.873881</td>\n",
       "      <td>25.750000</td>\n",
       "      <td>12.900000</td>\n",
       "    </tr>\n",
       "    <tr>\n",
       "      <th>75%</th>\n",
       "      <td>153.750000</td>\n",
       "      <td>218.875000</td>\n",
       "      <td>36.450000</td>\n",
       "      <td>44.900000</td>\n",
       "      <td>17.400000</td>\n",
       "    </tr>\n",
       "    <tr>\n",
       "      <th>max</th>\n",
       "      <td>204.000000</td>\n",
       "      <td>296.400000</td>\n",
       "      <td>49.600000</td>\n",
       "      <td>114.000000</td>\n",
       "      <td>48.900000</td>\n",
       "    </tr>\n",
       "  </tbody>\n",
       "</table>\n",
       "</div>"
      ],
      "text/plain": [
       "              Sno          TV       radio   newspaper       sales\n",
       "count  202.000000  202.000000  202.000000  202.000000  202.000000\n",
       "mean   102.425743  147.710396   23.247761   30.516337   14.159406\n",
       "std     59.310021   85.689200   14.774545   21.687071    5.765728\n",
       "min      1.000000    0.700000    0.000000    0.300000    1.600000\n",
       "25%     51.250000   74.800000   10.025000   12.825000   10.325000\n",
       "50%    102.500000  150.650000   22.873881   25.750000   12.900000\n",
       "75%    153.750000  218.875000   36.450000   44.900000   17.400000\n",
       "max    204.000000  296.400000   49.600000  114.000000   48.900000"
      ]
     },
     "execution_count": 9,
     "metadata": {},
     "output_type": "execute_result"
    }
   ],
   "source": [
    "# No of Rows\n",
    "total_rows=df_marketing.shape[0]\n",
    "# No of Columns\n",
    "total_columns=df_marketing.shape[1]\n",
    "print(\"The numbers of the entries are: {} and total numbers of columns are: {}\".format(total_rows,total_columns),\"\\n\")\n",
    "df_marketing.describe()"
   ]
  },
  {
   "cell_type": "markdown",
   "metadata": {},
   "source": [
    "### Ans - Observations\n",
    "\n",
    "We can see that previously **there were 204 rows and 5 coloumn but after applying the filters now it become 202 which means 2 rows are wiped off.** \n",
    "Also we can see that now the **minimum of Sales and the T.V has changed to 1.6 Lakh Rs and 700 Rs, so as the range**.\n",
    "\n",
    "The new Sales range is **1.6 - 49 Lakh Rs**.\n"
   ]
  },
  {
   "cell_type": "markdown",
   "metadata": {},
   "source": [
    "## -----------------------------------------------------------------------------------------------------------------------------##"
   ]
  },
  {
   "cell_type": "markdown",
   "metadata": {},
   "source": [
    "## Task 2 \n",
    "#### a) Create the Box-plot of all the numeric columns and explain the result in your words."
   ]
  },
  {
   "cell_type": "code",
   "execution_count": 10,
   "metadata": {},
   "outputs": [
    {
     "data": {
      "text/plain": [
       "Text(0.5,1,'Expense plot for Tv')"
      ]
     },
     "execution_count": 10,
     "metadata": {},
     "output_type": "execute_result"
    },
    {
     "data": {
      "image/png": "[encoded data removed]",
      "text/plain": [
       "<matplotlib.figure.Figure at 0x2a884213e48>"
      ]
     },
     "metadata": {},
     "output_type": "display_data"
    }
   ],
   "source": [
    "plt.figure(figsize=(3,5))\n",
    "ax = sns.boxplot(y=[\"TV\"], data=df_marketing,color = \"lightblue\")\n",
    "plt.title(\"Expense plot for Tv\")"
   ]
  },
  {
   "cell_type": "markdown",
   "metadata": {},
   "source": [
    "### Ans - Observations\n",
    "\n",
    "#### Description - TV\n",
    "\n",
    "The Box plot we plotted shows that the **range of amount spent on the advertisment through TV vary from 0 - 3 Lakh Rs**. Looking the plot we can see that the **data is equally distributed along the median value which is approximately at the 1.5 Lakh Rs**. **Also 50 % of data is in the range 75 Thousand Rs to 2.25 Lakh Rs.** which means Advertisment through TV cost much expense in advertisment bugdet of the BigMart."
   ]
  },
  {
   "cell_type": "code",
   "execution_count": 11,
   "metadata": {},
   "outputs": [
    {
     "data": {
      "text/plain": [
       "Text(0.5,1,'Expense plot for Radio')"
      ]
     },
     "execution_count": 11,
     "metadata": {},
     "output_type": "execute_result"
    },
    {
     "data": {
      "image/png": "[encoded data removed]",
      "text/plain": [
       "<matplotlib.figure.Figure at 0x2a884201908>"
      ]
     },
     "metadata": {},
     "output_type": "display_data"
    }
   ],
   "source": [
    "plt.figure(figsize=(3,5))\n",
    "ax = sns.boxplot(y=\"radio\", data=df_marketing,color = \"Red\")\n",
    "plt.title(\"Expense plot for Radio\")"
   ]
  },
  {
   "cell_type": "markdown",
   "metadata": {},
   "source": [
    "### Ans - Observations\n",
    "\n",
    "#### Description - Radio\n",
    "\n",
    "The Box plot we plotted shows that the **range of amount spent on the advertisment through Radio vary from 0 - 50 Thousand Rs** **Also most of the data is in the range 10 Thousand Rs to 36 Thousand Rs.** which means Advertisment through radio cost less than that of TV expense in bugdet of the BigMart."
   ]
  },
  {
   "cell_type": "code",
   "execution_count": 12,
   "metadata": {},
   "outputs": [
    {
     "data": {
      "text/plain": [
       "Text(0.5,1,'Expense plot for NewsPaper')"
      ]
     },
     "execution_count": 12,
     "metadata": {},
     "output_type": "execute_result"
    },
    {
     "data": {
      "image/png": "[encoded data removed]",
      "text/plain": [
       "<matplotlib.figure.Figure at 0x2a886321e48>"
      ]
     },
     "metadata": {},
     "output_type": "display_data"
    }
   ],
   "source": [
    "plt.figure(figsize=(3,5))\n",
    "ax = sns.boxplot(y=\"newspaper\", data=df_marketing,color = \"Green\")\n",
    "plt.title(\"Expense plot for NewsPaper\")"
   ]
  },
  {
   "cell_type": "markdown",
   "metadata": {},
   "source": [
    "### Ans - Observations\n",
    "\n",
    "#### Description - Newspaper\n",
    "\n",
    "The Box plot we plotted shows that the **range of amount spent on the advertisment through newspaper vary from 0 - 90 Thousand Rs**, with outliers at 1.14 Lakh Rs. **Also most of the data is in the range 10 Thousand Rs to 45 Thousand Rs.** which means Advertisment through newspaper cost less than that of TV expense but more than Radio in bugdet of the BigMart."
   ]
  },
  {
   "cell_type": "code",
   "execution_count": 13,
   "metadata": {},
   "outputs": [
    {
     "data": {
      "text/plain": [
       "Text(0.5,1,'Plot for Total Sales')"
      ]
     },
     "execution_count": 13,
     "metadata": {},
     "output_type": "execute_result"
    },
    {
     "data": {
      "image/png": "[encoded data removed]",
      "text/plain": [
       "<matplotlib.figure.Figure at 0x2a884201f60>"
      ]
     },
     "metadata": {},
     "output_type": "display_data"
    }
   ],
   "source": [
    "plt.figure(figsize=(3,5))\n",
    "ax = sns.boxplot(y=\"sales\", data=df_marketing,color = \"Magenta\")\n",
    "plt.title(\"Plot for Total Sales\")"
   ]
  },
  {
   "cell_type": "markdown",
   "metadata": {},
   "source": [
    "### Ans - Observations\n",
    "\n",
    "#### Description - Sales\n",
    "\n",
    "The Box plot we plotted shows that the **range of Sales vary from 1 Lakh Rs - 28 Lakh rs with the expection of 48 Lakh rs Once**. **Median shows that the data is more centralized in the 3rd quarter which means average sale is 14 Lakh RS**"
   ]
  },
  {
   "cell_type": "markdown",
   "metadata": {},
   "source": [
    "## -----------------------------------------------------------------------------------------------------------------------------##"
   ]
  },
  {
   "cell_type": "markdown",
   "metadata": {},
   "source": [
    "#### b) Next you need to create a figure and create two subplots(contained in the same row) on it with the following details -\n",
    "\n",
    "#### First subplot will show the Box plot of Sales, tv, radio and newpapers columns\n",
    "\n",
    "\n",
    "#### Create Line plot of all the 4 columns Sales, tv, radio and newpapers using panadas.dataframe.data.plot method, on the Second subplot. Use different colours for different columns.\n",
    "Both the subplots should have the appropriate labels for X and Y values and title"
   ]
  },
  {
   "cell_type": "code",
   "execution_count": 14,
   "metadata": {},
   "outputs": [
    {
     "data": {
      "image/png": "[encoded data removed]",
      "text/plain": [
       "<matplotlib.figure.Figure at 0x2a8863f11d0>"
      ]
     },
     "metadata": {},
     "output_type": "display_data"
    }
   ],
   "source": [
    "fig = plt.figure(figsize=(30,10))\n",
    "ax1 = fig.add_subplot(221)\n",
    "\n",
    "# Converting sales in Thousand Rs\n",
    "sales = df_marketing['sales']*100\n",
    "\n",
    "df = pd.DataFrame(data = df_marketing, columns = ['TV','radio','newspaper'])\n",
    "\n",
    "df['sales'] = sales\n",
    "\n",
    "df.boxplot()\n",
    "ax2 = fig.add_subplot(223)\n",
    "ax2.plot(df)\n",
    "plt.title(\"Amount distribution in Lakh Rs\")\n",
    "ax2.legend(('Tv', 'radio', 'newspaper','sales'))\n",
    "plt.show()"
   ]
  },
  {
   "cell_type": "code",
   "execution_count": 15,
   "metadata": {},
   "outputs": [
    {
     "data": {
      "text/html": [
       "<div>\n",
       "<style scoped>\n",
       "    .dataframe tbody tr th:only-of-type {\n",
       "        vertical-align: middle;\n",
       "    }\n",
       "\n",
       "    .dataframe tbody tr th {\n",
       "        vertical-align: top;\n",
       "    }\n",
       "\n",
       "    .dataframe thead th {\n",
       "        text-align: right;\n",
       "    }\n",
       "</style>\n",
       "<table border=\"1\" class=\"dataframe\">\n",
       "  <thead>\n",
       "    <tr style=\"text-align: right;\">\n",
       "      <th></th>\n",
       "      <th>Sno</th>\n",
       "      <th>TV</th>\n",
       "      <th>radio</th>\n",
       "      <th>newspaper</th>\n",
       "      <th>sales</th>\n",
       "    </tr>\n",
       "  </thead>\n",
       "  <tbody>\n",
       "    <tr>\n",
       "      <th>0</th>\n",
       "      <td>1</td>\n",
       "      <td>219.0</td>\n",
       "      <td>23.247761</td>\n",
       "      <td>34.5</td>\n",
       "      <td>48.9</td>\n",
       "    </tr>\n",
       "    <tr>\n",
       "      <th>1</th>\n",
       "      <td>2</td>\n",
       "      <td>230.1</td>\n",
       "      <td>37.800000</td>\n",
       "      <td>69.2</td>\n",
       "      <td>22.1</td>\n",
       "    </tr>\n",
       "    <tr>\n",
       "      <th>2</th>\n",
       "      <td>3</td>\n",
       "      <td>44.5</td>\n",
       "      <td>39.300000</td>\n",
       "      <td>45.1</td>\n",
       "      <td>10.4</td>\n",
       "    </tr>\n",
       "    <tr>\n",
       "      <th>3</th>\n",
       "      <td>4</td>\n",
       "      <td>17.2</td>\n",
       "      <td>45.900000</td>\n",
       "      <td>69.3</td>\n",
       "      <td>9.3</td>\n",
       "    </tr>\n",
       "    <tr>\n",
       "      <th>4</th>\n",
       "      <td>5</td>\n",
       "      <td>151.5</td>\n",
       "      <td>41.300000</td>\n",
       "      <td>58.5</td>\n",
       "      <td>18.5</td>\n",
       "    </tr>\n",
       "  </tbody>\n",
       "</table>\n",
       "</div>"
      ],
      "text/plain": [
       "   Sno     TV      radio  newspaper  sales\n",
       "0    1  219.0  23.247761       34.5   48.9\n",
       "1    2  230.1  37.800000       69.2   22.1\n",
       "2    3   44.5  39.300000       45.1   10.4\n",
       "3    4   17.2  45.900000       69.3    9.3\n",
       "4    5  151.5  41.300000       58.5   18.5"
      ]
     },
     "execution_count": 15,
     "metadata": {},
     "output_type": "execute_result"
    }
   ],
   "source": [
    "df_marketing.head()"
   ]
  },
  {
   "cell_type": "markdown",
   "metadata": {},
   "source": [
    "## -----------------------------------------------------------------------------------------------------------------------------##"
   ]
  },
  {
   "cell_type": "markdown",
   "metadata": {},
   "source": [
    "## Task 3 \n",
    "#### a) In order to predict the Sales based on Marketing expenses, find out the possible independent and dependent variables from the given Dataset. You can suggest different models (max. Up to 3) and explain any one of your model."
   ]
  },
  {
   "cell_type": "markdown",
   "metadata": {},
   "source": [
    "### Ans - Observation\n",
    "\n",
    "Well looking to all the **line plots we plotted the series seems Stationary**. I have **checked the dynamic mean and dynamic standard deviation with windows rolling size 12 in background and confirmed that as well**. \n",
    "Talking about the dependent and independent variable **we can easily figured that sales is only dependent variable and all the other columns are independent variable**"
   ]
  },
  {
   "cell_type": "markdown",
   "metadata": {},
   "source": [
    "## -----------------------------------------------------------------------------------------------------------------------------##"
   ]
  },
  {
   "cell_type": "markdown",
   "metadata": {},
   "source": [
    "#### b) Now, you would have already figured out that Sales is your dependent variable for which you are going to create your model. Lets Create the distribution plot along with kde plot for the Sales data and explain it in your words."
   ]
  },
  {
   "cell_type": "code",
   "execution_count": 16,
   "metadata": {},
   "outputs": [
    {
     "name": "stderr",
     "output_type": "stream",
     "text": [
      "C:\\Users\\ujjwa\\Anaconda3\\lib\\site-packages\\scipy\\stats\\stats.py:1706: FutureWarning: Using a non-tuple sequence for multidimensional indexing is deprecated; use `arr[tuple(seq)]` instead of `arr[seq]`. In the future this will be interpreted as an array index, `arr[np.array(seq)]`, which will result either in an error or a different result.\n",
      "  return np.add.reduce(sorted[indexer] * weights, axis=axis) / sumval\n"
     ]
    },
    {
     "data": {
      "text/plain": [
       "Text(0.5,1,'Distribution of Sales Data in Lakh Rs')"
      ]
     },
     "execution_count": 16,
     "metadata": {},
     "output_type": "execute_result"
    },
    {
     "data": {
      "image/png": "[encoded data removed]",
      "text/plain": [
       "<matplotlib.figure.Figure at 0x2a886b98780>"
      ]
     },
     "metadata": {},
     "output_type": "display_data"
    }
   ],
   "source": [
    "fig,ax = plt.subplots(figsize=(20,10))\n",
    "sns.distplot(df_marketing['sales'],color='Orange')\n",
    "plt.title(\"Distribution of Sales Data in Lakh Rs\")"
   ]
  },
  {
   "cell_type": "markdown",
   "metadata": {},
   "source": [
    "### Ans - Observation\n",
    "\n",
    "The Kde plot or we can say the distribution plot we plotted shows **the distribution of the sales data in the range of 5 - 28 Lakh Rs with a outlier of 48 Lakh Rs**. Also most of the data **is in between 10 - 15 Lakh Rs that is where our average is present.**"
   ]
  },
  {
   "cell_type": "markdown",
   "metadata": {},
   "source": [
    "## -----------------------------------------------------------------------------------------------------------------------------##"
   ]
  },
  {
   "cell_type": "markdown",
   "metadata": {},
   "source": [
    "## Task 4\n",
    "\n",
    "#### Next task is to see the distribution of different parameters along with Sales. For this we will use Scatter Plot.\n",
    "\n",
    "\n",
    "\n",
    "#### a) Create the Scatter plot using the dataframe plot function keeping the Sales on Y-axis and expenditure on tv on x-axis.\n",
    "\n",
    "#### b) Create 3 subplots (in a single row) in a figure for the following -\n",
    "\n",
    "\n",
    "\n",
    "**Sales vs TV Advertising**\n",
    "\n",
    "**Sales vs Radio Advertising**\n",
    "\n",
    "**Sales vs NewsPaper Advertising**\n",
    "\n",
    "#### The points should be of seagreen, darkgreen and black colours respectively\n",
    "\n",
    "\n",
    "#### Provide the appropriate labels for x and y axis and name of the graphs.**"
   ]
  },
  {
   "cell_type": "code",
   "execution_count": 17,
   "metadata": {},
   "outputs": [
    {
     "data": {
      "image/png": "[encoded data removed]",
      "text/plain": [
       "<matplotlib.figure.Figure at 0x2a886ba8fd0>"
      ]
     },
     "metadata": {},
     "output_type": "display_data"
    }
   ],
   "source": [
    "x = df_marketing['TV']/100\n",
    "y = df_marketing['sales']\n",
    "plt.scatter(x,y,color='SKYblue')\n",
    "plt.ylabel(\"Sales in Lakh Rs\")\n",
    "plt.xlabel(\"Expenditure of TV in Lakh RS\")\n",
    "plt.show()"
   ]
  },
  {
   "cell_type": "code",
   "execution_count": null,
   "metadata": {},
   "outputs": [],
   "source": []
  },
  {
   "cell_type": "code",
   "execution_count": 18,
   "metadata": {},
   "outputs": [
    {
     "data": {
      "image/png": "[encoded data removed]",
      "text/plain": [
       "<matplotlib.figure.Figure at 0x2a8866aa208>"
      ]
     },
     "metadata": {},
     "output_type": "display_data"
    }
   ],
   "source": [
    "fig = plt.figure(figsize=(20,20))\n",
    "\n",
    "ax1=fig.add_subplot(331)\n",
    "x = df_marketing['TV']/100\n",
    "y = df_marketing['sales']\n",
    "plt.scatter(x,y,color='seagreen')\n",
    "\n",
    "x = df_marketing['radio']/100\n",
    "\n",
    "ax2=fig.add_subplot(332)\n",
    "plt.scatter(x, y, color='darkgreen')\n",
    "\n",
    "x = df_marketing['newspaper']/100\n",
    "ax3=fig.add_subplot(333)\n",
    "plt.scatter(x, y, color='black')\n",
    "\n",
    "ax1.set_xlabel(\"TV\",fontsize=20)\n",
    "ax1.set_ylabel(\"Sales\",fontsize=20)\n",
    "ax1.tick_params(labelsize=10)\n",
    "\n",
    "ax2.set_xlabel(\"Radio\",fontsize=20)\n",
    "ax2.set_ylabel(\"Sales\",fontsize=20)\n",
    "ax2.tick_params(labelsize=10)\n",
    "\n",
    "ax3.set_xlabel(\"Newspaper\",fontsize=20)\n",
    "ax3.set_ylabel(\"Sales\",fontsize=20)\n",
    "ax3.tick_params(labelsize=10)\n",
    "\n",
    "plt.show()"
   ]
  },
  {
   "cell_type": "markdown",
   "metadata": {},
   "source": [
    "## -----------------------------------------------------------------------------------------------------------------------------##"
   ]
  },
  {
   "cell_type": "markdown",
   "metadata": {},
   "source": [
    "#### c) Create the pairplot for Sales with different marketing expenses using seaborn."
   ]
  },
  {
   "cell_type": "code",
   "execution_count": 19,
   "metadata": {},
   "outputs": [
    {
     "data": {
      "text/plain": [
       "<seaborn.axisgrid.PairGrid at 0x2a886494160>"
      ]
     },
     "execution_count": 19,
     "metadata": {},
     "output_type": "execute_result"
    },
    {
     "data": {
      "image/png": "[encoded data removed]",
      "text/plain": [
       "<matplotlib.figure.Figure at 0x2a884206320>"
      ]
     },
     "metadata": {},
     "output_type": "display_data"
    }
   ],
   "source": [
    "df = df_marketing\n",
    "\n",
    "# Changing the column units to lakh rs\n",
    "df['TV'] = df_marketing['TV']/100\n",
    "df['radio'] = df_marketing['radio']/100\n",
    "df['newspaper'] = df_marketing['newspaper']/100\n",
    "\n",
    "sns.pairplot(data = df , x_vars=['TV','radio','newspaper'], y_vars='sales',size=7,aspect=0.7)"
   ]
  },
  {
   "cell_type": "markdown",
   "metadata": {},
   "source": [
    "## -----------------------------------------------------------------------------------------------------------------------------##"
   ]
  },
  {
   "cell_type": "markdown",
   "metadata": {},
   "source": [
    "## Task 5 \n",
    "#### a) Add a new column “TotalAdvt” to the dataframe df_marketing, which will have the total of all the three marketing expenditures (tv, radio and news-paper)"
   ]
  },
  {
   "cell_type": "code",
   "execution_count": 20,
   "metadata": {},
   "outputs": [
    {
     "data": {
      "text/html": [
       "<div>\n",
       "<style scoped>\n",
       "    .dataframe tbody tr th:only-of-type {\n",
       "        vertical-align: middle;\n",
       "    }\n",
       "\n",
       "    .dataframe tbody tr th {\n",
       "        vertical-align: top;\n",
       "    }\n",
       "\n",
       "    .dataframe thead th {\n",
       "        text-align: right;\n",
       "    }\n",
       "</style>\n",
       "<table border=\"1\" class=\"dataframe\">\n",
       "  <thead>\n",
       "    <tr style=\"text-align: right;\">\n",
       "      <th></th>\n",
       "      <th>Sno</th>\n",
       "      <th>TV</th>\n",
       "      <th>radio</th>\n",
       "      <th>newspaper</th>\n",
       "      <th>sales</th>\n",
       "      <th>TotalAdvt</th>\n",
       "    </tr>\n",
       "  </thead>\n",
       "  <tbody>\n",
       "    <tr>\n",
       "      <th>0</th>\n",
       "      <td>1</td>\n",
       "      <td>2.190</td>\n",
       "      <td>0.232478</td>\n",
       "      <td>0.345</td>\n",
       "      <td>48.9</td>\n",
       "      <td>2.767478</td>\n",
       "    </tr>\n",
       "    <tr>\n",
       "      <th>1</th>\n",
       "      <td>2</td>\n",
       "      <td>2.301</td>\n",
       "      <td>0.378000</td>\n",
       "      <td>0.692</td>\n",
       "      <td>22.1</td>\n",
       "      <td>3.371000</td>\n",
       "    </tr>\n",
       "    <tr>\n",
       "      <th>2</th>\n",
       "      <td>3</td>\n",
       "      <td>0.445</td>\n",
       "      <td>0.393000</td>\n",
       "      <td>0.451</td>\n",
       "      <td>10.4</td>\n",
       "      <td>1.289000</td>\n",
       "    </tr>\n",
       "    <tr>\n",
       "      <th>3</th>\n",
       "      <td>4</td>\n",
       "      <td>0.172</td>\n",
       "      <td>0.459000</td>\n",
       "      <td>0.693</td>\n",
       "      <td>9.3</td>\n",
       "      <td>1.324000</td>\n",
       "    </tr>\n",
       "    <tr>\n",
       "      <th>4</th>\n",
       "      <td>5</td>\n",
       "      <td>1.515</td>\n",
       "      <td>0.413000</td>\n",
       "      <td>0.585</td>\n",
       "      <td>18.5</td>\n",
       "      <td>2.513000</td>\n",
       "    </tr>\n",
       "  </tbody>\n",
       "</table>\n",
       "</div>"
      ],
      "text/plain": [
       "   Sno     TV     radio  newspaper  sales  TotalAdvt\n",
       "0    1  2.190  0.232478      0.345   48.9   2.767478\n",
       "1    2  2.301  0.378000      0.692   22.1   3.371000\n",
       "2    3  0.445  0.393000      0.451   10.4   1.289000\n",
       "3    4  0.172  0.459000      0.693    9.3   1.324000\n",
       "4    5  1.515  0.413000      0.585   18.5   2.513000"
      ]
     },
     "execution_count": 20,
     "metadata": {},
     "output_type": "execute_result"
    }
   ],
   "source": [
    "# Adding the TotalAdvt in Lakh rs\n",
    "df_marketing['TotalAdvt'] = df_marketing['TV'] + df_marketing['radio'] + df_marketing['newspaper']\n",
    "df_marketing.head()"
   ]
  },
  {
   "cell_type": "markdown",
   "metadata": {},
   "source": [
    "## -----------------------------------------------------------------------------------------------------------------------------##"
   ]
  },
  {
   "cell_type": "markdown",
   "metadata": {},
   "source": [
    "#### b) Fit a Simple Linear Regression for Sales and  TotalAdvt and find out the values of intercept slope and the R-square value. Describe the model in your terms. The model should be named simple_model."
   ]
  },
  {
   "cell_type": "code",
   "execution_count": 21,
   "metadata": {},
   "outputs": [],
   "source": [
    "y=df_marketing['sales']\n",
    "x=df_marketing['TotalAdvt'].values.reshape(-1,1)"
   ]
  },
  {
   "cell_type": "code",
   "execution_count": 22,
   "metadata": {},
   "outputs": [
    {
     "data": {
      "text/plain": [
       "0.6411334702839222"
      ]
     },
     "execution_count": 22,
     "metadata": {},
     "output_type": "execute_result"
    }
   ],
   "source": [
    "# Creating the linear regression model object\n",
    "simple_model = linear_model.LinearRegression()\n",
    "simple_model.fit(x,y)\n",
    "\n",
    "#for value of R-square\n",
    "simple_model.score(x,y) "
   ]
  },
  {
   "cell_type": "code",
   "execution_count": 23,
   "metadata": {},
   "outputs": [
    {
     "data": {
      "text/plain": [
       "array([4.9782741])"
      ]
     },
     "execution_count": 23,
     "metadata": {},
     "output_type": "execute_result"
    }
   ],
   "source": [
    "#value of slope\n",
    "simple_model.coef_   "
   ]
  },
  {
   "cell_type": "code",
   "execution_count": 24,
   "metadata": {
    "scrolled": true
   },
   "outputs": [
    {
     "data": {
      "text/plain": [
       "4.129453401328462"
      ]
     },
     "execution_count": 24,
     "metadata": {},
     "output_type": "execute_result"
    }
   ],
   "source": [
    "#intercept value\n",
    "simple_model.intercept_ "
   ]
  },
  {
   "cell_type": "markdown",
   "metadata": {},
   "source": [
    "## -----------------------------------------------------------------------------------------------------------------------------##"
   ]
  },
  {
   "cell_type": "markdown",
   "metadata": {},
   "source": [
    "#### c) What will be the Sales using the above Model if total expenditure on advertisements is Rupees 50,000. Show the steps done to find out the Sales value. (write the mathematical equation used )"
   ]
  },
  {
   "cell_type": "code",
   "execution_count": 25,
   "metadata": {},
   "outputs": [
    {
     "name": "stdout",
     "output_type": "stream",
     "text": [
      "Total Sales at 50000 Rs Advertisment- 6.61859045\n"
     ]
    }
   ],
   "source": [
    "# Steps\n",
    "# 1 Find the slope (m) and the value of X\n",
    "# 2 Find the intercept(c)\n",
    "# 3 Apply the formula (y = mx+c)\n",
    "\n",
    "# Converted the given expenditure in Lakh Rs\n",
    "total_sales = 4.9782741*0.5 + 4.1294534\n",
    "\n",
    "print(\"Total Sales at 50000 Rs Advertisment-\",total_sales)  "
   ]
  },
  {
   "cell_type": "markdown",
   "metadata": {},
   "source": [
    "## -----------------------------------------------------------------------------------------------------------------------------##"
   ]
  },
  {
   "cell_type": "markdown",
   "metadata": {},
   "source": [
    "#### d) Perform part c) using the predict method for the model created in part b)"
   ]
  },
  {
   "cell_type": "code",
   "execution_count": 26,
   "metadata": {},
   "outputs": [
    {
     "name": "stdout",
     "output_type": "stream",
     "text": [
      "Total Sales using the Predict Model at 50000 Rs Advertisment- [6.61859045]\n"
     ]
    }
   ],
   "source": [
    "print(\"Total Sales using the Predict Model at 50000 Rs Advertisment-\",simple_model.predict(0.5))"
   ]
  },
  {
   "cell_type": "markdown",
   "metadata": {},
   "source": [
    "### Ans - Observations\n",
    "\n",
    "Here **we can verify the equation we created and the result from the predict method both are exactly same hence the Model created is perfectly fine**"
   ]
  },
  {
   "cell_type": "markdown",
   "metadata": {},
   "source": [
    "## -----------------------------------------------------------------------------------------------------------------------------##"
   ]
  },
  {
   "cell_type": "markdown",
   "metadata": {},
   "source": [
    "## Task 6\n",
    "\n",
    "#### In this section, we will create a different model to see the impact of different marketing expenditures on Sales. For this we will use advertising on tv, radio and news-paper as separate variables or independent variables.\n",
    "\n",
    "#### a) Fit a Simple Linear Regression for Sales while keeping tv, radio and newspaper as three different x-parameters. The model should be named multi_model."
   ]
  },
  {
   "cell_type": "code",
   "execution_count": 27,
   "metadata": {},
   "outputs": [],
   "source": [
    "y=df_marketing['sales']\n",
    "x_TV=df_marketing['TV']\n",
    "x_Radio=df_marketing['radio']\n",
    "x_Newspaper=df_marketing['newspaper']"
   ]
  },
  {
   "cell_type": "code",
   "execution_count": 28,
   "metadata": {},
   "outputs": [],
   "source": [
    "multi_model=linear_model.LinearRegression()"
   ]
  },
  {
   "cell_type": "code",
   "execution_count": 29,
   "metadata": {},
   "outputs": [],
   "source": [
    "# Vertical stacking the independent variables all together\n",
    "x4 = np.vstack((x_TV,x_Radio,x_Newspaper))\n",
    "x4 = x4.T"
   ]
  },
  {
   "cell_type": "code",
   "execution_count": 30,
   "metadata": {},
   "outputs": [
    {
     "data": {
      "text/plain": [
       "LinearRegression(copy_X=True, fit_intercept=True, n_jobs=1, normalize=False)"
      ]
     },
     "execution_count": 30,
     "metadata": {},
     "output_type": "execute_result"
    }
   ],
   "source": [
    "multi_model.fit(x4,y)"
   ]
  },
  {
   "cell_type": "code",
   "execution_count": 31,
   "metadata": {},
   "outputs": [
    {
     "data": {
      "text/plain": [
       "0.7545163072955382"
      ]
     },
     "execution_count": 31,
     "metadata": {},
     "output_type": "execute_result"
    }
   ],
   "source": [
    "multi_model.score(x4,y)"
   ]
  },
  {
   "cell_type": "code",
   "execution_count": 32,
   "metadata": {},
   "outputs": [
    {
     "data": {
      "text/plain": [
       "array([ 4.68636807, 18.76042293,  0.14346244])"
      ]
     },
     "execution_count": 32,
     "metadata": {},
     "output_type": "execute_result"
    }
   ],
   "source": [
    "multi_model.coef_"
   ]
  },
  {
   "cell_type": "code",
   "execution_count": 33,
   "metadata": {},
   "outputs": [
    {
     "data": {
      "text/plain": [
       "2.8319952964638393"
      ]
     },
     "execution_count": 33,
     "metadata": {},
     "output_type": "execute_result"
    }
   ],
   "source": [
    "multi_model.intercept_"
   ]
  },
  {
   "cell_type": "markdown",
   "metadata": {},
   "source": [
    "### Ans - Observations\n",
    "\n",
    "We created the multi model keeping all the three independent variable in mind and the equation now formed is\n",
    "\n",
    "**y = 4.68636807 \\* X_TV + 18.76042293 \\* X_Radio + 0.14346244 \\* X_Newspaper + 2.831995296**"
   ]
  },
  {
   "cell_type": "markdown",
   "metadata": {},
   "source": [
    "## -----------------------------------------------------------------------------------------------------------------------------##"
   ]
  },
  {
   "cell_type": "markdown",
   "metadata": {},
   "source": [
    "#### b) Write the Mathematical equation for Sales for this Model. Predict Sales for the below mentioned Expenditures\n",
    "\n",
    "#### i) tv 90000, radio 3000 and newspaper 45000\n",
    "\n",
    "#### ii) tv 290000 and newspaper 80000\n",
    "\n",
    "Explain your answers in words\n",
    "\n"
   ]
  },
  {
   "cell_type": "code",
   "execution_count": 34,
   "metadata": {},
   "outputs": [
    {
     "name": "stdout",
     "output_type": "stream",
     "text": [
      "Total Sales with the given value - 7.6770973449\n"
     ]
    }
   ],
   "source": [
    "# i) tv 90000, radio 3000 and newspaper 45000\n",
    "y = (4.68636807 * 0.9) + (18.76042293 * 0.03) + (0.14346244 * 0.45) + 2.831995296\n",
    "print(\"Total Sales with the given value -\",y)"
   ]
  },
  {
   "cell_type": "code",
   "execution_count": 35,
   "metadata": {},
   "outputs": [
    {
     "name": "stdout",
     "output_type": "stream",
     "text": [
      "Total Sales with the given value - 16.537232651\n"
     ]
    }
   ],
   "source": [
    "# ii) tv 290000 and newspaper 80000\n",
    "y = (4.68636807 * 2.9) + (0.14346244 * 0.8) + 2.831995296\n",
    "print(\"Total Sales with the given value -\",y)"
   ]
  },
  {
   "cell_type": "markdown",
   "metadata": {},
   "source": [
    "## -----------------------------------------------------------------------------------------------------------------------------##"
   ]
  },
  {
   "cell_type": "markdown",
   "metadata": {},
   "source": [
    "#### c) Perform part b) using  the predict method for the model."
   ]
  },
  {
   "cell_type": "code",
   "execution_count": 36,
   "metadata": {},
   "outputs": [
    {
     "name": "stdout",
     "output_type": "stream",
     "text": [
      "Total Sales using the Predict Model at 50000 Rs Advertisment- [7.67709735]\n"
     ]
    }
   ],
   "source": [
    "# i) tv 90000, radio 3000 and newspaper 45000\n",
    "x = np.vstack(( 0.9 , 0.03 , 0.45 ))\n",
    "# Transposing the matrix\n",
    "x = x.T\n",
    "print(\"Total Sales using the Predict Model at 50000 Rs Advertisment-\",multi_model.predict(x))"
   ]
  },
  {
   "cell_type": "code",
   "execution_count": 37,
   "metadata": {},
   "outputs": [
    {
     "name": "stdout",
     "output_type": "stream",
     "text": [
      "Total Sales using the Predict Model at 50000 Rs Advertisment- [16.53723266]\n"
     ]
    }
   ],
   "source": [
    "# ii) tv 290000 and newspaper 80000\n",
    "x = np.vstack(( 2.9 , 0, 0.8 ))\n",
    "# Transposing the matrix\n",
    "x = x.T\n",
    "print(\"Total Sales using the Predict Model at 50000 Rs Advertisment-\",multi_model.predict(x))"
   ]
  },
  {
   "cell_type": "markdown",
   "metadata": {},
   "source": [
    "## -----------------------------------------------------------------------------------------------------------------------------##"
   ]
  },
  {
   "cell_type": "markdown",
   "metadata": {},
   "source": [
    "#### d) Compare the result in part b) and c)"
   ]
  },
  {
   "cell_type": "markdown",
   "metadata": {},
   "source": [
    "### Ans - Observations\n",
    "\n",
    "Well we can see that the **results are exactly same as calculated using the formula as well as calculated using the predict method hence the equation we created is perfect.**"
   ]
  },
  {
   "cell_type": "markdown",
   "metadata": {},
   "source": [
    "## -----------------------------------------------------------------------------------------------------------------------------##"
   ]
  },
  {
   "cell_type": "markdown",
   "metadata": {},
   "source": [
    "## Task 7\n",
    "#### As part of task 5) and 6) we created two different models. Compare the two models (simple_model and  multi_model) by calculating the Error in the Models. Explain which model is better and why?\n",
    "\n",
    "#### a) For both the simple regression model (stored in simple_model) and Multi-variate model (stored in multi_model) find out the predicted value of Y, for the given  X-values and store it in simple_y and multi_y."
   ]
  },
  {
   "cell_type": "code",
   "execution_count": 38,
   "metadata": {},
   "outputs": [
    {
     "data": {
      "text/plain": [
       "array([10.99947165])"
      ]
     },
     "execution_count": 38,
     "metadata": {},
     "output_type": "execute_result"
    }
   ],
   "source": [
    "# With the given data 1 --> tv 90000, radio 3000 and newspaper 45000\n",
    "simple_y = simple_model.predict(1.38)\n",
    "simple_y"
   ]
  },
  {
   "cell_type": "code",
   "execution_count": 39,
   "metadata": {},
   "outputs": [
    {
     "data": {
      "text/plain": [
       "array([7.67709735])"
      ]
     },
     "execution_count": 39,
     "metadata": {},
     "output_type": "execute_result"
    }
   ],
   "source": [
    "# With the given data 1 --> tv 90000, radio 3000 and newspaper 45000\n",
    "x = np.vstack(( 0.9 , 0.03 , 0.45 ))\n",
    "x = x.T\n",
    "multi_y = multi_model.predict(x)\n",
    "multi_y"
   ]
  },
  {
   "cell_type": "markdown",
   "metadata": {},
   "source": [
    "## -----------------------------------------------------------------------------------------------------------------------------##"
   ]
  },
  {
   "cell_type": "markdown",
   "metadata": {},
   "source": [
    "#### b) Find out the Mean Squared Error, using the metrics module of sklearn, for both the models (using actual and predicted values of Sales). Store the result in simple_mse and multi_mse respectively"
   ]
  },
  {
   "cell_type": "markdown",
   "metadata": {},
   "source": [
    "#### Simple Model"
   ]
  },
  {
   "cell_type": "code",
   "execution_count": 40,
   "metadata": {},
   "outputs": [
    {
     "data": {
      "text/plain": [
       "10.999471658000001"
      ]
     },
     "execution_count": 40,
     "metadata": {},
     "output_type": "execute_result"
    }
   ],
   "source": [
    "actual_y = 4.9782741 * 1.38 + 4.1294534\n",
    "actual_y"
   ]
  },
  {
   "cell_type": "code",
   "execution_count": 41,
   "metadata": {},
   "outputs": [],
   "source": [
    "actual_y = [10.999471658000001]"
   ]
  },
  {
   "cell_type": "code",
   "execution_count": 42,
   "metadata": {},
   "outputs": [
    {
     "data": {
      "text/plain": [
       "[10.99947165]"
      ]
     },
     "execution_count": 42,
     "metadata": {},
     "output_type": "execute_result"
    }
   ],
   "source": [
    "predicted_simple_y = [10.99947165]\n",
    "predicted_simple_y"
   ]
  },
  {
   "cell_type": "code",
   "execution_count": 43,
   "metadata": {},
   "outputs": [
    {
     "data": {
      "text/plain": [
       "6.400001059076793e-17"
      ]
     },
     "execution_count": 43,
     "metadata": {},
     "output_type": "execute_result"
    }
   ],
   "source": [
    "simple_mse = metrics.mean_squared_error(actual_y,predicted_simple_y)\n",
    "simple_mse"
   ]
  },
  {
   "cell_type": "markdown",
   "metadata": {},
   "source": [
    "#### Multi Model"
   ]
  },
  {
   "cell_type": "code",
   "execution_count": 44,
   "metadata": {},
   "outputs": [],
   "source": [
    "actual_y = (4.68636807 * 0.9) + (18.76042293 * 0.03) + (0.14346244 * 0.45) + 2.831995296\n",
    "actual_y = [7.6770973449]"
   ]
  },
  {
   "cell_type": "code",
   "execution_count": 45,
   "metadata": {},
   "outputs": [
    {
     "data": {
      "text/plain": [
       "[7.67709735]"
      ]
     },
     "execution_count": 45,
     "metadata": {},
     "output_type": "execute_result"
    }
   ],
   "source": [
    "predicted_mutli_y = [7.67709735]\n",
    "predicted_mutli_y"
   ]
  },
  {
   "cell_type": "code",
   "execution_count": 47,
   "metadata": {},
   "outputs": [
    {
     "data": {
      "text/plain": [
       "2.6010004304154277e-17"
      ]
     },
     "execution_count": 47,
     "metadata": {},
     "output_type": "execute_result"
    }
   ],
   "source": [
    "multi_mse = metrics.mean_squared_error(actual_y,predicted_mutli_y)\n",
    "multi_mse"
   ]
  },
  {
   "cell_type": "markdown",
   "metadata": {},
   "source": [
    "## -----------------------------------------------------------------------------------------------------------------------------##"
   ]
  },
  {
   "cell_type": "markdown",
   "metadata": {},
   "source": [
    "#### c) Explain the result in step b) in your words describing which model is better and why?"
   ]
  },
  {
   "cell_type": "markdown",
   "metadata": {},
   "source": [
    "### Ans - Observation\n",
    "We have successfully checked the value of the mean squared error and **found that the MME model is very much precise than the MSE model hence Mr. Roy should go for the multi model to find the fine results and generate the better predictions of the sales.**."
   ]
  },
  {
   "cell_type": "code",
   "execution_count": null,
   "metadata": {},
   "outputs": [],
   "source": []
  }
 ],
 "metadata": {
  "kernelspec": {
   "display_name": "Python 3",
   "language": "python",
   "name": "python3"
  },
  "language_info": {
   "codemirror_mode": {
    "name": "ipython",
    "version": 3
   },
   "file_extension": ".py",
   "mimetype": "text/x-python",
   "name": "python",
   "nbconvert_exporter": "python",
   "pygments_lexer": "ipython3",
   "version": "3.6.4"
  }
 },
 "nbformat": 4,
 "nbformat_minor": 2
}
